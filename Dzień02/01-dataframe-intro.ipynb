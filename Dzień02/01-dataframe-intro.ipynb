{
 "cells": [
  {
   "cell_type": "markdown",
   "id": "3e89f2b2",
   "metadata": {},
   "source": [
    "### Wprowadzenie do biblioteki pandas \n",
    "\n",
    "Przetwarzanie danych przy użyciu pandas to działania na wyższym poziomie uogólnienia. Sprowadza się to do przetwarzania obiektu o nazwie Data frame. Koncepcyjnie sam DataFrame to złożenie obiektów typu seria które są połączone przy użyciu wspólnego indeksu (lub wartości bo wartość może stanowić index).\n",
    "W praktyce DataFrame (df), może nie zawierać żadnych serii lub zawierać jedną serie lub kilkanaście. Czyli pojedyńczą \"kolumnę\" stanowią obiekty serii oznacza to że mogą w kolumnie być przechowywane obiekty określonego typu one różne typy danych. Np. tekst, liczba obiekt, zazwyczaj jest to liczba lub literał. Wewnątrz mogą być również obiekty typu NaN (missing Value). W przypadku przeszukiwania obiektów/list mogą być kłopotliwe w obsłudze. Wtedy trzeba pobierać pojedyncze wartości potem je przeparsować. \n",
    "Data frame z szerszej perspektywy przypomina tabele asoscjacyjną z indeksem. Warto wspomnieć że indeksem mogą być tylko obiekty niemutowalne (niezmienne). Z indeksem data frame może być skojarzona struktura która nie jest płaska. Np. krotka składająca się z dwóch elementów lub może być to też napis. (coś takiego dzieje się przy grupowaniu względem kilku kolumn). \n",
    "Seria numpy mogą mieć swoje nazwy. Nazwa ta jest przejmowana przez kolumny data frame i w rezultacie one również mogą mieć nazwę (lub numer). "
   ]
  },
  {
   "cell_type": "code",
   "execution_count": 6,
   "id": "f95b0839",
   "metadata": {},
   "outputs": [],
   "source": [
    "import pandas as pd"
   ]
  },
  {
   "cell_type": "markdown",
   "id": "5e9e3be4",
   "metadata": {},
   "source": [
    "Pracę z biblioteką rozpoczynamy od jej importu nastepnie tworzymy obiekt dataFrame, który możemy dzięki funkcjom wbudowanym dość sprawnie przetwarzać. Jak tworzymy DataFrame - w najprostszym przypakdu rozpoczynamy od tworzenia słownika ktory przekonwertujemy odpowiednią funkcją biblioteki na df.\n",
    "Słownik zostanie przekonwertowany w nastepujący sposó klucz będzie nazwą serii (nazwą kolumny) natomiast wartości będą wierszami. Indeks domyślnie będzie wartością liczbową"
   ]
  },
  {
   "cell_type": "markdown",
   "id": "35495f22",
   "metadata": {},
   "source": [
    "### Tworzenie DataFrame"
   ]
  },
  {
   "cell_type": "code",
   "execution_count": 15,
   "id": "5732fff6",
   "metadata": {},
   "outputs": [
    {
     "data": {
      "text/html": [
       "<div>\n",
       "<style scoped>\n",
       "    .dataframe tbody tr th:only-of-type {\n",
       "        vertical-align: middle;\n",
       "    }\n",
       "\n",
       "    .dataframe tbody tr th {\n",
       "        vertical-align: top;\n",
       "    }\n",
       "\n",
       "    .dataframe thead th {\n",
       "        text-align: right;\n",
       "    }\n",
       "</style>\n",
       "<table border=\"1\" class=\"dataframe\">\n",
       "  <thead>\n",
       "    <tr style=\"text-align: right;\">\n",
       "      <th></th>\n",
       "      <th>imie</th>\n",
       "      <th>nazwisko</th>\n",
       "      <th>rok urodzenia</th>\n",
       "    </tr>\n",
       "  </thead>\n",
       "  <tbody>\n",
       "    <tr>\n",
       "      <th>0</th>\n",
       "      <td>Jan</td>\n",
       "      <td>Kowalski</td>\n",
       "      <td>1970</td>\n",
       "    </tr>\n",
       "    <tr>\n",
       "      <th>1</th>\n",
       "      <td>Piotr</td>\n",
       "      <td>Nowak</td>\n",
       "      <td>1980</td>\n",
       "    </tr>\n",
       "    <tr>\n",
       "      <th>2</th>\n",
       "      <td>Paweł</td>\n",
       "      <td>Zieliński</td>\n",
       "      <td>1985</td>\n",
       "    </tr>\n",
       "    <tr>\n",
       "      <th>3</th>\n",
       "      <td>Adam</td>\n",
       "      <td>Witkowski</td>\n",
       "      <td>1999</td>\n",
       "    </tr>\n",
       "  </tbody>\n",
       "</table>\n",
       "</div>"
      ],
      "text/plain": [
       "    imie   nazwisko  rok urodzenia\n",
       "0    Jan   Kowalski           1970\n",
       "1  Piotr      Nowak           1980\n",
       "2  Paweł  Zieliński           1985\n",
       "3   Adam  Witkowski           1999"
      ]
     },
     "execution_count": 15,
     "metadata": {},
     "output_type": "execute_result"
    }
   ],
   "source": [
    "#przykład - tworzenie DF ze słownika \n",
    "\n",
    "#krok 1 - przygotowanie słownika z danymi \n",
    "#każda uporządkowana para stanowić będzie pojedynczą serię (kolumnę)\n",
    "\n",
    "employees = {\"imie\":[\"Jan\",\"Piotr\",\"Paweł\",\"Adam\"],\n",
    "           \"nazwisko\":[\"Kowalski\",\"Nowak\",\"Zieliński\",\"Witkowski\"],\n",
    "            \"rok urodzenia\":[1970, 1980, 1985, 1999]\n",
    "            }\n",
    "employees # kontrolne wywołanie obiektu\n",
    "\n",
    "# Krok 2 - tworzenie DataFrame\n",
    "\n",
    "df = pd.DataFrame(employees) # tworzenie DataFrame\n",
    "df # kontrolne wywołanie df"
   ]
  },
  {
   "cell_type": "markdown",
   "id": "a1a38803",
   "metadata": {},
   "source": [
    "Powyższy obiekt DF składa się z trzech obiektów serii.\n",
    "Domyślnie został utworzony indeks numeryczne. \n",
    "Można zrobić dedykowane (własne) - np. numery pesel"
   ]
  },
  {
   "cell_type": "markdown",
   "id": "3201a659",
   "metadata": {},
   "source": [
    "#### Właściwości DF\\"
   ]
  },
  {
   "cell_type": "code",
   "execution_count": 18,
   "id": "0632f5ec",
   "metadata": {},
   "outputs": [
    {
     "data": {
      "text/plain": [
       "[0, 1, 2, 3]"
      ]
     },
     "execution_count": 18,
     "metadata": {},
     "output_type": "execute_result"
    }
   ],
   "source": [
    "#wywołanie wartości przypisanych do indeksu\n",
    "df.index \n",
    "list(df.index)"
   ]
  },
  {
   "cell_type": "code",
   "execution_count": 20,
   "id": "5e510a37",
   "metadata": {},
   "outputs": [
    {
     "data": {
      "text/plain": [
       "['imie', 'nazwisko', 'rok urodzenia']"
      ]
     },
     "execution_count": 20,
     "metadata": {},
     "output_type": "execute_result"
    }
   ],
   "source": [
    "#wywołanie nazw kolumn\n",
    "list(df.columns)"
   ]
  },
  {
   "cell_type": "markdown",
   "id": "eaa594fd",
   "metadata": {},
   "source": [
    "#### Modyfikacja nazwy kolumny"
   ]
  },
  {
   "cell_type": "code",
   "execution_count": 21,
   "id": "6b778910",
   "metadata": {},
   "outputs": [
    {
     "data": {
      "text/html": [
       "<div>\n",
       "<style scoped>\n",
       "    .dataframe tbody tr th:only-of-type {\n",
       "        vertical-align: middle;\n",
       "    }\n",
       "\n",
       "    .dataframe tbody tr th {\n",
       "        vertical-align: top;\n",
       "    }\n",
       "\n",
       "    .dataframe thead th {\n",
       "        text-align: right;\n",
       "    }\n",
       "</style>\n",
       "<table border=\"1\" class=\"dataframe\">\n",
       "  <thead>\n",
       "    <tr style=\"text-align: right;\">\n",
       "      <th></th>\n",
       "      <th>imie</th>\n",
       "      <th>nazwisko</th>\n",
       "      <th>rok_urodzenia</th>\n",
       "    </tr>\n",
       "  </thead>\n",
       "  <tbody>\n",
       "    <tr>\n",
       "      <th>0</th>\n",
       "      <td>Jan</td>\n",
       "      <td>Kowalski</td>\n",
       "      <td>1970</td>\n",
       "    </tr>\n",
       "    <tr>\n",
       "      <th>1</th>\n",
       "      <td>Piotr</td>\n",
       "      <td>Nowak</td>\n",
       "      <td>1980</td>\n",
       "    </tr>\n",
       "    <tr>\n",
       "      <th>2</th>\n",
       "      <td>Paweł</td>\n",
       "      <td>Zieliński</td>\n",
       "      <td>1985</td>\n",
       "    </tr>\n",
       "    <tr>\n",
       "      <th>3</th>\n",
       "      <td>Adam</td>\n",
       "      <td>Witkowski</td>\n",
       "      <td>1999</td>\n",
       "    </tr>\n",
       "  </tbody>\n",
       "</table>\n",
       "</div>"
      ],
      "text/plain": [
       "    imie   nazwisko  rok_urodzenia\n",
       "0    Jan   Kowalski           1970\n",
       "1  Piotr      Nowak           1980\n",
       "2  Paweł  Zieliński           1985\n",
       "3   Adam  Witkowski           1999"
      ]
     },
     "execution_count": 21,
     "metadata": {},
     "output_type": "execute_result"
    }
   ],
   "source": [
    "#modyfikacje zawartości np. name\n",
    "#df.columns[2]=\"rok_urodzenia\" w ten sposób nie można -ponieważ jest to obiekt niemutowalny\n",
    "\n",
    "df.columns = ['imie','nazwisko','rok_urodzenia'] # tak będzie działać\n",
    "df"
   ]
  },
  {
   "cell_type": "code",
   "execution_count": 23,
   "id": "06ab72a1",
   "metadata": {},
   "outputs": [
    {
     "data": {
      "text/plain": [
       "0      Jan\n",
       "1    Piotr\n",
       "2    Paweł\n",
       "3     Adam\n",
       "Name: imie, dtype: object"
      ]
     },
     "execution_count": 23,
     "metadata": {},
     "output_type": "execute_result"
    }
   ],
   "source": [
    "#dostęp do kolumny\n",
    "df['imie']"
   ]
  },
  {
   "cell_type": "code",
   "execution_count": 25,
   "id": "9994fc8c",
   "metadata": {},
   "outputs": [
    {
     "data": {
      "text/plain": [
       "pandas.core.series.Series"
      ]
     },
     "execution_count": 25,
     "metadata": {},
     "output_type": "execute_result"
    }
   ],
   "source": [
    "type(df['imie']) #sprawdzam punkt"
   ]
  },
  {
   "cell_type": "code",
   "execution_count": 27,
   "id": "502190f3",
   "metadata": {},
   "outputs": [
    {
     "data": {
      "text/plain": [
       "0      Jan\n",
       "1    Piotr\n",
       "2    Paweł\n",
       "3     Adam\n",
       "Name: imie, dtype: object"
      ]
     },
     "execution_count": 27,
     "metadata": {},
     "output_type": "execute_result"
    }
   ],
   "source": [
    "df.imie #alternatywny sposób wywołania kolumny przy użyciu innej notacji (będzie działać gy nie ma spacji i słów kluczowych python)"
   ]
  },
  {
   "cell_type": "code",
   "execution_count": 36,
   "id": "374cf06b",
   "metadata": {},
   "outputs": [
    {
     "data": {
      "text/html": [
       "<div>\n",
       "<style scoped>\n",
       "    .dataframe tbody tr th:only-of-type {\n",
       "        vertical-align: middle;\n",
       "    }\n",
       "\n",
       "    .dataframe tbody tr th {\n",
       "        vertical-align: top;\n",
       "    }\n",
       "\n",
       "    .dataframe thead th {\n",
       "        text-align: right;\n",
       "    }\n",
       "</style>\n",
       "<table border=\"1\" class=\"dataframe\">\n",
       "  <thead>\n",
       "    <tr style=\"text-align: right;\">\n",
       "      <th></th>\n",
       "      <th>imie</th>\n",
       "      <th>nazwisko</th>\n",
       "    </tr>\n",
       "  </thead>\n",
       "  <tbody>\n",
       "    <tr>\n",
       "      <th>0</th>\n",
       "      <td>Jan</td>\n",
       "      <td>Kowalski</td>\n",
       "    </tr>\n",
       "    <tr>\n",
       "      <th>1</th>\n",
       "      <td>Piotr</td>\n",
       "      <td>Nowak</td>\n",
       "    </tr>\n",
       "    <tr>\n",
       "      <th>2</th>\n",
       "      <td>Paweł</td>\n",
       "      <td>Zieliński</td>\n",
       "    </tr>\n",
       "    <tr>\n",
       "      <th>3</th>\n",
       "      <td>Adam</td>\n",
       "      <td>Witkowski</td>\n",
       "    </tr>\n",
       "  </tbody>\n",
       "</table>\n",
       "</div>"
      ],
      "text/plain": [
       "    imie   nazwisko\n",
       "0    Jan   Kowalski\n",
       "1  Piotr      Nowak\n",
       "2  Paweł  Zieliński\n",
       "3   Adam  Witkowski"
      ]
     },
     "execution_count": 36,
     "metadata": {},
     "output_type": "execute_result"
    }
   ],
   "source": [
    "#wywołanie kilku kolumn \n",
    "df[[\"imie\",\"nazwisko\"]] \n",
    "#kolejność można zmieniać df[[\"nazwisko\",\"imie\"]] - też będzie działać"
   ]
  },
  {
   "cell_type": "code",
   "execution_count": 37,
   "id": "f123bd47",
   "metadata": {},
   "outputs": [
    {
     "data": {
      "text/html": [
       "<div>\n",
       "<style scoped>\n",
       "    .dataframe tbody tr th:only-of-type {\n",
       "        vertical-align: middle;\n",
       "    }\n",
       "\n",
       "    .dataframe tbody tr th {\n",
       "        vertical-align: top;\n",
       "    }\n",
       "\n",
       "    .dataframe thead th {\n",
       "        text-align: right;\n",
       "    }\n",
       "</style>\n",
       "<table border=\"1\" class=\"dataframe\">\n",
       "  <thead>\n",
       "    <tr style=\"text-align: right;\">\n",
       "      <th></th>\n",
       "      <th>imie</th>\n",
       "      <th>nazwisko</th>\n",
       "      <th>rok_urodzenia</th>\n",
       "    </tr>\n",
       "  </thead>\n",
       "  <tbody>\n",
       "    <tr>\n",
       "      <th>0</th>\n",
       "      <td>Jan</td>\n",
       "      <td>Kowalski</td>\n",
       "      <td>1970</td>\n",
       "    </tr>\n",
       "    <tr>\n",
       "      <th>1</th>\n",
       "      <td>Piotr</td>\n",
       "      <td>Nowak</td>\n",
       "      <td>1980</td>\n",
       "    </tr>\n",
       "    <tr>\n",
       "      <th>2</th>\n",
       "      <td>Paweł</td>\n",
       "      <td>Zieliński</td>\n",
       "      <td>1985</td>\n",
       "    </tr>\n",
       "    <tr>\n",
       "      <th>3</th>\n",
       "      <td>Adam</td>\n",
       "      <td>Witkowski</td>\n",
       "      <td>1999</td>\n",
       "    </tr>\n",
       "  </tbody>\n",
       "</table>\n",
       "</div>"
      ],
      "text/plain": [
       "    imie   nazwisko  rok_urodzenia\n",
       "0    Jan   Kowalski           1970\n",
       "1  Piotr      Nowak           1980\n",
       "2  Paweł  Zieliński           1985\n",
       "3   Adam  Witkowski           1999"
      ]
     },
     "execution_count": 37,
     "metadata": {},
     "output_type": "execute_result"
    }
   ],
   "source": [
    "df"
   ]
  },
  {
   "cell_type": "code",
   "execution_count": 45,
   "id": "094368a7",
   "metadata": {},
   "outputs": [
    {
     "data": {
      "text/html": [
       "<div>\n",
       "<style scoped>\n",
       "    .dataframe tbody tr th:only-of-type {\n",
       "        vertical-align: middle;\n",
       "    }\n",
       "\n",
       "    .dataframe tbody tr th {\n",
       "        vertical-align: top;\n",
       "    }\n",
       "\n",
       "    .dataframe thead th {\n",
       "        text-align: right;\n",
       "    }\n",
       "</style>\n",
       "<table border=\"1\" class=\"dataframe\">\n",
       "  <thead>\n",
       "    <tr style=\"text-align: right;\">\n",
       "      <th></th>\n",
       "      <th>imie</th>\n",
       "      <th>nazwisko</th>\n",
       "      <th>rok_urodzenia</th>\n",
       "      <th>wiek</th>\n",
       "    </tr>\n",
       "  </thead>\n",
       "  <tbody>\n",
       "    <tr>\n",
       "      <th>0</th>\n",
       "      <td>Jan</td>\n",
       "      <td>Kowalski</td>\n",
       "      <td>1970</td>\n",
       "      <td>51</td>\n",
       "    </tr>\n",
       "    <tr>\n",
       "      <th>1</th>\n",
       "      <td>Piotr</td>\n",
       "      <td>Nowak</td>\n",
       "      <td>1980</td>\n",
       "      <td>41</td>\n",
       "    </tr>\n",
       "    <tr>\n",
       "      <th>2</th>\n",
       "      <td>Paweł</td>\n",
       "      <td>Zieliński</td>\n",
       "      <td>1985</td>\n",
       "      <td>36</td>\n",
       "    </tr>\n",
       "    <tr>\n",
       "      <th>3</th>\n",
       "      <td>Adam</td>\n",
       "      <td>Witkowski</td>\n",
       "      <td>1999</td>\n",
       "      <td>22</td>\n",
       "    </tr>\n",
       "  </tbody>\n",
       "</table>\n",
       "</div>"
      ],
      "text/plain": [
       "    imie   nazwisko  rok_urodzenia  wiek\n",
       "0    Jan   Kowalski           1970    51\n",
       "1  Piotr      Nowak           1980    41\n",
       "2  Paweł  Zieliński           1985    36\n",
       "3   Adam  Witkowski           1999    22"
      ]
     },
     "execution_count": 45,
     "metadata": {},
     "output_type": "execute_result"
    }
   ],
   "source": [
    "# dodawanie kolumny w  której wartości będą obliczane na podstawie działania funkcji\n",
    "df['wiek']=2021-df['rok_urodzenia'] # przykład hardkodowania czyli wartość jest na sztywno wpisana\n",
    "df"
   ]
  },
  {
   "cell_type": "code",
   "execution_count": 49,
   "id": "a7a3779e",
   "metadata": {},
   "outputs": [
    {
     "data": {
      "text/html": [
       "<div>\n",
       "<style scoped>\n",
       "    .dataframe tbody tr th:only-of-type {\n",
       "        vertical-align: middle;\n",
       "    }\n",
       "\n",
       "    .dataframe tbody tr th {\n",
       "        vertical-align: top;\n",
       "    }\n",
       "\n",
       "    .dataframe thead th {\n",
       "        text-align: right;\n",
       "    }\n",
       "</style>\n",
       "<table border=\"1\" class=\"dataframe\">\n",
       "  <thead>\n",
       "    <tr style=\"text-align: right;\">\n",
       "      <th></th>\n",
       "      <th>imie</th>\n",
       "      <th>nazwisko</th>\n",
       "      <th>rok_urodzenia</th>\n",
       "      <th>wiek</th>\n",
       "    </tr>\n",
       "  </thead>\n",
       "  <tbody>\n",
       "    <tr>\n",
       "      <th>0</th>\n",
       "      <td>Jan</td>\n",
       "      <td>Kowalski</td>\n",
       "      <td>1970</td>\n",
       "      <td>51</td>\n",
       "    </tr>\n",
       "    <tr>\n",
       "      <th>1</th>\n",
       "      <td>Piotr</td>\n",
       "      <td>Nowak</td>\n",
       "      <td>1980</td>\n",
       "      <td>41</td>\n",
       "    </tr>\n",
       "    <tr>\n",
       "      <th>2</th>\n",
       "      <td>Paweł</td>\n",
       "      <td>Zieliński</td>\n",
       "      <td>1985</td>\n",
       "      <td>36</td>\n",
       "    </tr>\n",
       "    <tr>\n",
       "      <th>3</th>\n",
       "      <td>Adam</td>\n",
       "      <td>Witkowski</td>\n",
       "      <td>1999</td>\n",
       "      <td>22</td>\n",
       "    </tr>\n",
       "  </tbody>\n",
       "</table>\n",
       "</div>"
      ],
      "text/plain": [
       "    imie   nazwisko  rok_urodzenia  wiek\n",
       "0    Jan   Kowalski           1970    51\n",
       "1  Piotr      Nowak           1980    41\n",
       "2  Paweł  Zieliński           1985    36\n",
       "3   Adam  Witkowski           1999    22"
      ]
     },
     "execution_count": 49,
     "metadata": {},
     "output_type": "execute_result"
    }
   ],
   "source": [
    "# dodawanie kolumny w  której wartości będą obliczane na \n",
    "#podstawie działania funkcji która dynamicznie pobiera wartość roku\n",
    "from datetime import datetime\n",
    "datetime.now().year # tutaj jest wywołanie bierzącego roku\n",
    "df['wiek']=datetime.now().year-df['rok_urodzenia'] # przykład dynamicznie wczytywania roku\n",
    "df"
   ]
  },
  {
   "cell_type": "code",
   "execution_count": 53,
   "id": "cb2bd987",
   "metadata": {},
   "outputs": [
    {
     "data": {
      "text/html": [
       "<div>\n",
       "<style scoped>\n",
       "    .dataframe tbody tr th:only-of-type {\n",
       "        vertical-align: middle;\n",
       "    }\n",
       "\n",
       "    .dataframe tbody tr th {\n",
       "        vertical-align: top;\n",
       "    }\n",
       "\n",
       "    .dataframe thead th {\n",
       "        text-align: right;\n",
       "    }\n",
       "</style>\n",
       "<table border=\"1\" class=\"dataframe\">\n",
       "  <thead>\n",
       "    <tr style=\"text-align: right;\">\n",
       "      <th></th>\n",
       "      <th>imie</th>\n",
       "      <th>nazwisko</th>\n",
       "      <th>rok_urodzenia</th>\n",
       "      <th>wiek</th>\n",
       "    </tr>\n",
       "  </thead>\n",
       "  <tbody>\n",
       "    <tr>\n",
       "      <th>0</th>\n",
       "      <td>Jan</td>\n",
       "      <td>Kowalski</td>\n",
       "      <td>1970</td>\n",
       "      <td>51</td>\n",
       "    </tr>\n",
       "    <tr>\n",
       "      <th>1</th>\n",
       "      <td>Piotr</td>\n",
       "      <td>Nowak</td>\n",
       "      <td>1980</td>\n",
       "      <td>41</td>\n",
       "    </tr>\n",
       "    <tr>\n",
       "      <th>2</th>\n",
       "      <td>Paweł</td>\n",
       "      <td>Zieliński</td>\n",
       "      <td>1985</td>\n",
       "      <td>36</td>\n",
       "    </tr>\n",
       "    <tr>\n",
       "      <th>3</th>\n",
       "      <td>Adam</td>\n",
       "      <td>Witkowski</td>\n",
       "      <td>1999</td>\n",
       "      <td>22</td>\n",
       "    </tr>\n",
       "  </tbody>\n",
       "</table>\n",
       "</div>"
      ],
      "text/plain": [
       "    imie   nazwisko  rok_urodzenia  wiek\n",
       "0    Jan   Kowalski           1970    51\n",
       "1  Piotr      Nowak           1980    41\n",
       "2  Paweł  Zieliński           1985    36\n",
       "3   Adam  Witkowski           1999    22"
      ]
     },
     "execution_count": 53,
     "metadata": {},
     "output_type": "execute_result"
    }
   ],
   "source": [
    "# usuwanie kolumny w  której wartości będą obliczane na podstawie działania funkcji\n",
    "#del(df['wiek']) # usuwamy del\n",
    "df"
   ]
  },
  {
   "cell_type": "code",
   "execution_count": 54,
   "id": "98f4ea0b",
   "metadata": {},
   "outputs": [
    {
     "data": {
      "text/html": [
       "<div>\n",
       "<style scoped>\n",
       "    .dataframe tbody tr th:only-of-type {\n",
       "        vertical-align: middle;\n",
       "    }\n",
       "\n",
       "    .dataframe tbody tr th {\n",
       "        vertical-align: top;\n",
       "    }\n",
       "\n",
       "    .dataframe thead th {\n",
       "        text-align: right;\n",
       "    }\n",
       "</style>\n",
       "<table border=\"1\" class=\"dataframe\">\n",
       "  <thead>\n",
       "    <tr style=\"text-align: right;\">\n",
       "      <th></th>\n",
       "      <th>imie</th>\n",
       "      <th>nazwisko</th>\n",
       "      <th>rok_urodzenia</th>\n",
       "      <th>wiek</th>\n",
       "    </tr>\n",
       "  </thead>\n",
       "  <tbody>\n",
       "    <tr>\n",
       "      <th>0</th>\n",
       "      <td>Jan</td>\n",
       "      <td>Kowalski</td>\n",
       "      <td>1970</td>\n",
       "      <td>51</td>\n",
       "    </tr>\n",
       "    <tr>\n",
       "      <th>1</th>\n",
       "      <td>Piotr</td>\n",
       "      <td>Nowak</td>\n",
       "      <td>1980</td>\n",
       "      <td>41</td>\n",
       "    </tr>\n",
       "    <tr>\n",
       "      <th>2</th>\n",
       "      <td>Paweł</td>\n",
       "      <td>Zieliński</td>\n",
       "      <td>1985</td>\n",
       "      <td>36</td>\n",
       "    </tr>\n",
       "    <tr>\n",
       "      <th>3</th>\n",
       "      <td>Adam</td>\n",
       "      <td>Witkowski</td>\n",
       "      <td>1999</td>\n",
       "      <td>22</td>\n",
       "    </tr>\n",
       "  </tbody>\n",
       "</table>\n",
       "</div>"
      ],
      "text/plain": [
       "    imie   nazwisko  rok_urodzenia  wiek\n",
       "0    Jan   Kowalski           1970    51\n",
       "1  Piotr      Nowak           1980    41\n",
       "2  Paweł  Zieliński           1985    36\n",
       "3   Adam  Witkowski           1999    22"
      ]
     },
     "execution_count": 54,
     "metadata": {},
     "output_type": "execute_result"
    }
   ],
   "source": [
    "df"
   ]
  },
  {
   "cell_type": "code",
   "execution_count": 22,
   "id": "ab8944de",
   "metadata": {},
   "outputs": [
    {
     "data": {
      "text/plain": [
       "array([['Jan', 'Kowalski', 1970],\n",
       "       ['Piotr', 'Nowak', 1980],\n",
       "       ['Paweł', 'Zieliński', 1985],\n",
       "       ['Adam', 'Witkowski', 1999]], dtype=object)"
      ]
     },
     "execution_count": 22,
     "metadata": {},
     "output_type": "execute_result"
    }
   ],
   "source": [
    "df.values #wyświetlenie wszystkich wartości wewnątrz frame!"
   ]
  },
  {
   "cell_type": "code",
   "execution_count": null,
   "id": "1f45deea",
   "metadata": {},
   "outputs": [],
   "source": []
  },
  {
   "cell_type": "code",
   "execution_count": null,
   "id": "f3575ec9",
   "metadata": {},
   "outputs": [],
   "source": []
  }
 ],
 "metadata": {
  "kernelspec": {
   "display_name": "Python 3 (ipykernel)",
   "language": "python",
   "name": "python3"
  },
  "language_info": {
   "codemirror_mode": {
    "name": "ipython",
    "version": 3
   },
   "file_extension": ".py",
   "mimetype": "text/x-python",
   "name": "python",
   "nbconvert_exporter": "python",
   "pygments_lexer": "ipython3",
   "version": "3.9.7"
  }
 },
 "nbformat": 4,
 "nbformat_minor": 5
}
