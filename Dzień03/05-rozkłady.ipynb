{
 "cells": [
  {
   "cell_type": "code",
   "execution_count": 93,
   "id": "ed85dcd4",
   "metadata": {},
   "outputs": [],
   "source": [
    "import numpy as np\n",
    "import pandas as pd\n",
    "import matplotlib.pyplot as plt"
   ]
  },
  {
   "cell_type": "markdown",
   "id": "cfca0879",
   "metadata": {},
   "source": [
    "Rozkład normalny, bernoliergo, plazona, są rozkłady skrzywione\n"
   ]
  },
  {
   "cell_type": "code",
   "execution_count": 94,
   "id": "1f7cc28a",
   "metadata": {},
   "outputs": [],
   "source": [
    "#generowanie rozkładu normalnego za pomocą modułu np random\n",
    "#wyznaczam ziarno pseudolosowości\n",
    "#wyznaczam stałą -ilość próbek"
   ]
  },
  {
   "cell_type": "code",
   "execution_count": 95,
   "id": "774e41e4",
   "metadata": {},
   "outputs": [],
   "source": [
    "np.random.seed(0)\n",
    "N=1_000_000"
   ]
  },
  {
   "cell_type": "code",
   "execution_count": 96,
   "id": "1c43853f",
   "metadata": {},
   "outputs": [],
   "source": [
    "data = np.random.randn(N) #generuje rozklad normalny \n",
    "#w podanej ilosci probek, wzgledem wartosci zerowej im wiecej probek tym jest on blizszy tej wartosci"
   ]
  },
  {
   "cell_type": "code",
   "execution_count": 97,
   "id": "90e01e54",
   "metadata": {},
   "outputs": [
    {
     "data": {
      "text/plain": [
       "(0.0015121465155362318, 0.002387730826572747)"
      ]
     },
     "execution_count": 97,
     "metadata": {},
     "output_type": "execute_result"
    }
   ],
   "source": [
    "np.mean(data), np.median(data)"
   ]
  },
  {
   "cell_type": "code",
   "execution_count": 98,
   "id": "97909fba",
   "metadata": {},
   "outputs": [
    {
     "data": {
      "image/png": "[encoded data removed]",
      "text/plain": [
       "<Figure size 864x432 with 1 Axes>"
      ]
     },
     "metadata": {
      "needs_background": "light"
     },
     "output_type": "display_data"
    }
   ],
   "source": [
    "#generuje wykres \n",
    "plt.figure(figsize=(12,6))#rozmiar w calach\n",
    "plt.hist(data)\n",
    "plt.show()"
   ]
  },
  {
   "cell_type": "code",
   "execution_count": 99,
   "id": "ad4c8cb5",
   "metadata": {},
   "outputs": [
    {
     "data": {
      "image/png": "[encoded data removed]",
      "text/plain": [
       "<Figure size 864x432 with 1 Axes>"
      ]
     },
     "metadata": {
      "needs_background": "light"
     },
     "output_type": "display_data"
    }
   ],
   "source": [
    "#generuje wykres \n",
    "plt.figure(figsize=(12,6))\n",
    "plt.hist(data, bins=50, color='red')\n",
    "\n",
    "plt.show()"
   ]
  },
  {
   "cell_type": "code",
   "execution_count": 100,
   "id": "cf92270f",
   "metadata": {},
   "outputs": [
    {
     "data": {
      "image/png": "[encoded data removed]",
      "text/plain": [
       "<Figure size 864x432 with 1 Axes>"
      ]
     },
     "metadata": {
      "needs_background": "light"
     },
     "output_type": "display_data"
    }
   ],
   "source": [
    "#generuje wykres \n",
    "plt.figure(figsize=(12,6))\n",
    "plt.hist(data, bins=50, color='red')\n",
    "plt.axvline(np.mean(data),color='black') #dodaje linie pionowa oznaczajaca nasza srednia\n",
    "plt.axvline(np.mean(data)+np.std(data), color='orange') #dodaje linie pionowa oznaczajaca nasze odchylenie standardowe\n",
    "plt.axvline(np.mean(data)-np.std(data), color='orange') #dodaje druga pionowa linie oznaczajaca nasze odchylenie standardowe\n",
    "plt.axvline(np.mean(data)+2*np.std(data), color='blue')\n",
    "plt.axvline(np.mean(data)-2*np.std(data), color='blue')\n",
    "plt.axvline(np.mean(data)+3*np.std(data), color='green')\n",
    "plt.axvline(np.mean(data)-3*np.std(data), color='green')\n",
    "plt.show()"
   ]
  },
  {
   "cell_type": "markdown",
   "id": "79aefa04",
   "metadata": {},
   "source": [
    "powyżej mamy przedstawioną regułę trzech sigm. "
   ]
  },
  {
   "cell_type": "code",
   "execution_count": 101,
   "id": "03c0ac8c",
   "metadata": {},
   "outputs": [
    {
     "data": {
      "text/plain": [
       "68.28"
      ]
     },
     "execution_count": 101,
     "metadata": {},
     "output_type": "execute_result"
    }
   ],
   "source": [
    "_mean = np.mean(data)\n",
    "_std = np.std(data)\n",
    "\n",
    "#obliczam liczbe probek w odlesłości 1 odchylenia standardowego od średniej\n",
    "len(data[(data>=_mean-_std)&(data<=_mean+_std)])/N*100"
   ]
  },
  {
   "cell_type": "code",
   "execution_count": 102,
   "id": "3a83b08e",
   "metadata": {},
   "outputs": [
    {
     "data": {
      "text/plain": [
       "95.4563"
      ]
     },
     "execution_count": 102,
     "metadata": {},
     "output_type": "execute_result"
    }
   ],
   "source": [
    "#2*std\n",
    "len(data[(data>=_mean-2*_std)&(data<=_mean+2*_std)])/N*100"
   ]
  },
  {
   "cell_type": "code",
   "execution_count": 103,
   "id": "765404cc",
   "metadata": {},
   "outputs": [
    {
     "data": {
      "text/plain": [
       "99.7331"
      ]
     },
     "execution_count": 103,
     "metadata": {},
     "output_type": "execute_result"
    }
   ],
   "source": [
    "#3*std\n",
    "len(data[(data>=_mean-3*_std)&(data<=_mean+3*_std)])/N*100"
   ]
  },
  {
   "cell_type": "code",
   "execution_count": 104,
   "id": "e6e79ef7",
   "metadata": {},
   "outputs": [],
   "source": [
    "#jak sprawdzić czy coś jest rozkładem normalnym ? -> analiza graficzna, lub testy statystyczne\n",
    "#poniże test Shapiro-Wilka z biblioteki scipy\n",
    "import scipy"
   ]
  },
  {
   "cell_type": "code",
   "execution_count": 105,
   "id": "e3d6c19e",
   "metadata": {},
   "outputs": [],
   "source": [
    "from scipy.stats import shapiro"
   ]
  },
  {
   "cell_type": "code",
   "execution_count": 106,
   "id": "e0279cba",
   "metadata": {},
   "outputs": [
    {
     "data": {
      "text/plain": [
       "ShapiroResult(statistic=1.0002193450927734, pvalue=1.0)"
      ]
     },
     "execution_count": 106,
     "metadata": {},
     "output_type": "execute_result"
    }
   ],
   "source": [
    "shapiro(data)\n",
    "#wynikiem pracy jest krotka która zwraca wartosc testu drugi element to prawdopodobienstwo testowe\n",
    "# ktore mowi że obliczona wartosc jest przypadkowa i jest nie zgodna z rzeczywistoscia\n",
    "#poniższy wynik jest okreslony jako przypadkowy co wynika z tego że u nas N >5000"
   ]
  },
  {
   "cell_type": "code",
   "execution_count": 126,
   "id": "b87deaff",
   "metadata": {},
   "outputs": [
    {
     "data": {
      "text/plain": [
       "ShapiroResult(statistic=0.99982750415802, pvalue=0.9872961044311523)"
      ]
     },
     "execution_count": 126,
     "metadata": {},
     "output_type": "execute_result"
    }
   ],
   "source": [
    "np.random.seed(0)\n",
    "data = np.random.randn(4_500) #generuje rozklad normalny \n",
    "shapiro(data)"
   ]
  },
  {
   "cell_type": "code",
   "execution_count": 127,
   "id": "cc39a9d4",
   "metadata": {},
   "outputs": [
    {
     "data": {
      "text/plain": [
       "array([ 1.76405235,  0.40015721,  0.97873798, ..., -0.09834549,\n",
       "        0.84987707, -0.49498571])"
      ]
     },
     "execution_count": 127,
     "metadata": {},
     "output_type": "execute_result"
    }
   ],
   "source": [
    "data"
   ]
  },
  {
   "cell_type": "code",
   "execution_count": 128,
   "id": "c3e65450",
   "metadata": {},
   "outputs": [
    {
     "data": {
      "text/plain": [
       "[(0.644, 3.802], (-0.029, 0.644], (0.644, 3.802], (0.644, 3.802], (0.644, 3.802], ..., (-3.741, -0.704], (-0.029, 0.644], (-0.704, -0.029], (0.644, 3.802], (-0.704, -0.029]]\n",
       "Length: 4500\n",
       "Categories (4, interval[float64, right]): [(-3.741, -0.704] < (-0.704, -0.029] < (-0.029, 0.644] < (0.644, 3.802]]"
      ]
     },
     "execution_count": 128,
     "metadata": {},
     "output_type": "execute_result"
    }
   ],
   "source": [
    "#podział na porcje danych\n",
    "#podział na kwartyle (4 czesci)\n",
    "pd.qcut(data, q=4) #"
   ]
  },
  {
   "cell_type": "code",
   "execution_count": 131,
   "id": "52aadf65",
   "metadata": {
    "scrolled": true
   },
   "outputs": [
    {
     "data": {
      "text/html": [
       "<div>\n",
       "<style scoped>\n",
       "    .dataframe tbody tr th:only-of-type {\n",
       "        vertical-align: middle;\n",
       "    }\n",
       "\n",
       "    .dataframe tbody tr th {\n",
       "        vertical-align: top;\n",
       "    }\n",
       "\n",
       "    .dataframe thead th {\n",
       "        text-align: right;\n",
       "    }\n",
       "</style>\n",
       "<table border=\"1\" class=\"dataframe\">\n",
       "  <thead>\n",
       "    <tr style=\"text-align: right;\">\n",
       "      <th></th>\n",
       "      <th>0</th>\n",
       "    </tr>\n",
       "  </thead>\n",
       "  <tbody>\n",
       "    <tr>\n",
       "      <th>count</th>\n",
       "      <td>4500.000000</td>\n",
       "    </tr>\n",
       "    <tr>\n",
       "      <th>mean</th>\n",
       "      <td>-0.023379</td>\n",
       "    </tr>\n",
       "    <tr>\n",
       "      <th>std</th>\n",
       "      <td>0.985935</td>\n",
       "    </tr>\n",
       "    <tr>\n",
       "      <th>min</th>\n",
       "      <td>-3.740101</td>\n",
       "    </tr>\n",
       "    <tr>\n",
       "      <th>25%</th>\n",
       "      <td>-0.704431</td>\n",
       "    </tr>\n",
       "    <tr>\n",
       "      <th>50%</th>\n",
       "      <td>-0.028989</td>\n",
       "    </tr>\n",
       "    <tr>\n",
       "      <th>75%</th>\n",
       "      <td>0.644114</td>\n",
       "    </tr>\n",
       "    <tr>\n",
       "      <th>max</th>\n",
       "      <td>3.801660</td>\n",
       "    </tr>\n",
       "  </tbody>\n",
       "</table>\n",
       "</div>"
      ],
      "text/plain": [
       "                 0\n",
       "count  4500.000000\n",
       "mean     -0.023379\n",
       "std       0.985935\n",
       "min      -3.740101\n",
       "25%      -0.704431\n",
       "50%      -0.028989\n",
       "75%       0.644114\n",
       "max       3.801660"
      ]
     },
     "execution_count": 131,
     "metadata": {},
     "output_type": "execute_result"
    }
   ],
   "source": [
    "#metody zeby zobaczyc jak wygladaja dane w kwartylach:\n",
    "#1. konwertujemy tablice do dataframe\n",
    "df = pd.DataFrame(data)\n",
    "df.describe() #metoda do opisu kwantyli i ich wartosci"
   ]
  },
  {
   "cell_type": "code",
   "execution_count": 135,
   "id": "f23bdd45",
   "metadata": {},
   "outputs": [
    {
     "data": {
      "text/html": [
       "<div>\n",
       "<style scoped>\n",
       "    .dataframe tbody tr th:only-of-type {\n",
       "        vertical-align: middle;\n",
       "    }\n",
       "\n",
       "    .dataframe tbody tr th {\n",
       "        vertical-align: top;\n",
       "    }\n",
       "\n",
       "    .dataframe thead th {\n",
       "        text-align: right;\n",
       "    }\n",
       "</style>\n",
       "<table border=\"1\" class=\"dataframe\">\n",
       "  <thead>\n",
       "    <tr style=\"text-align: right;\">\n",
       "      <th></th>\n",
       "      <th>0</th>\n",
       "    </tr>\n",
       "  </thead>\n",
       "  <tbody>\n",
       "    <tr>\n",
       "      <th>count</th>\n",
       "      <td>4500.000000</td>\n",
       "    </tr>\n",
       "    <tr>\n",
       "      <th>mean</th>\n",
       "      <td>-0.023379</td>\n",
       "    </tr>\n",
       "    <tr>\n",
       "      <th>std</th>\n",
       "      <td>0.985935</td>\n",
       "    </tr>\n",
       "    <tr>\n",
       "      <th>min</th>\n",
       "      <td>-3.740101</td>\n",
       "    </tr>\n",
       "    <tr>\n",
       "      <th>10%</th>\n",
       "      <td>-1.306522</td>\n",
       "    </tr>\n",
       "    <tr>\n",
       "      <th>20%</th>\n",
       "      <td>-0.860651</td>\n",
       "    </tr>\n",
       "    <tr>\n",
       "      <th>30%</th>\n",
       "      <td>-0.541455</td>\n",
       "    </tr>\n",
       "    <tr>\n",
       "      <th>40%</th>\n",
       "      <td>-0.278432</td>\n",
       "    </tr>\n",
       "    <tr>\n",
       "      <th>50%</th>\n",
       "      <td>-0.028989</td>\n",
       "    </tr>\n",
       "    <tr>\n",
       "      <th>60%</th>\n",
       "      <td>0.219909</td>\n",
       "    </tr>\n",
       "    <tr>\n",
       "      <th>70%</th>\n",
       "      <td>0.496310</td>\n",
       "    </tr>\n",
       "    <tr>\n",
       "      <th>80%</th>\n",
       "      <td>0.813120</td>\n",
       "    </tr>\n",
       "    <tr>\n",
       "      <th>90%</th>\n",
       "      <td>1.246021</td>\n",
       "    </tr>\n",
       "    <tr>\n",
       "      <th>max</th>\n",
       "      <td>3.801660</td>\n",
       "    </tr>\n",
       "  </tbody>\n",
       "</table>\n",
       "</div>"
      ],
      "text/plain": [
       "                 0\n",
       "count  4500.000000\n",
       "mean     -0.023379\n",
       "std       0.985935\n",
       "min      -3.740101\n",
       "10%      -1.306522\n",
       "20%      -0.860651\n",
       "30%      -0.541455\n",
       "40%      -0.278432\n",
       "50%      -0.028989\n",
       "60%       0.219909\n",
       "70%       0.496310\n",
       "80%       0.813120\n",
       "90%       1.246021\n",
       "max       3.801660"
      ]
     },
     "execution_count": 135,
     "metadata": {},
     "output_type": "execute_result"
    }
   ],
   "source": [
    "#metody zeby zobaczyc jak wygladaja dane w kwartylach:\n",
    "#1. konwertujemy tablice do dataframe\n",
    "df = pd.DataFrame(data)\n",
    "df.describe(percentiles=[x/10 for x in range (1,10)]) #metoda describe służy do opisu wartości kwantyli"
   ]
  },
  {
   "cell_type": "markdown",
   "id": "37d7e405",
   "metadata": {},
   "source": [
    "#sprawdzić ->> wykres pudełkowy i  kwartyle ?\n",
    "\n",
    "<b>kwantyle </b>to porcja danych bazujący na dyskretyzacji - gdzie wartościom ciągłym przypisujemy pewien przedział np. wiek 0-100 może być zapisany jako liczba całkowita może być też 45,5. i Jeżeli chcielibyśmy osobom z zakresu 0-18 przydzielić kategorie dzieci 18-65 to dorośli a od 65 seniorzy to jest to kategoryzacja danych gdzie wartość ciągła wieku jest przez nas podzielona na kategorie wg. ustalonych przez nas kryteriów. Jest to dyskretyzacja. Dyskretyzacja powoduje że ilość liczb/kategorii/grup staje jest policzalna i można je opisać przy użyciu narzędzi statystycznych."
   ]
  },
  {
   "cell_type": "markdown",
   "id": "66b4d614",
   "metadata": {},
   "source": [
    "<b>Korelacja</b> to związek miedzy czymś a czymś. W uczeniu maszynowym jest to ważne poniważ pozwala określić reguły transfromacji danych między danymi wejściowymi a danymi wyjściowymi.\n",
    "Korelacja dotyczy zawsze dwóch zestawów danych, wejściowe i wyścjiowe. Nie muszą być one liniowe czy też jednowymiarowy.\n",
    "Nasze dane wejściowe będą miały w uczeniu maszynowym kilka wymiarów. \n",
    "\n",
    "Korelacja przyjmuje wartosc od -1 do 1. \n",
    "- Jezeli wartos 0 - brak korelacji:\n",
    "- 0.3 - słaba korelacja\n",
    "- 0.3-0.7 - korelacja jest średnia\n",
    "- 0.7-1 - korelacja jest silna"
   ]
  },
  {
   "cell_type": "code",
   "execution_count": 148,
   "id": "e5606fd9",
   "metadata": {},
   "outputs": [],
   "source": [
    "np.random.seed(0)\n",
    "#generuje 5000 próbek\n",
    "x= np.random.randint(-10,11, 5000) #5000 elemeentów z podanego przedziału\n",
    "y = 2*x + np.random.randn(5000)*10"
   ]
  },
  {
   "cell_type": "code",
   "execution_count": 149,
   "id": "1309da79",
   "metadata": {},
   "outputs": [
    {
     "data": {
      "text/plain": [
       "<matplotlib.collections.PathCollection at 0x1dcc6547fa0>"
      ]
     },
     "execution_count": 149,
     "metadata": {},
     "output_type": "execute_result"
    },
    {
     "data": {
      "image/png": "[encoded data removed]",
      "text/plain": [
       "<Figure size 432x288 with 1 Axes>"
      ]
     },
     "metadata": {
      "needs_background": "light"
     },
     "output_type": "display_data"
    }
   ],
   "source": [
    "#rysuje wykres rozrzutu wartości pyplot\n",
    "plt.scatter(x, y)"
   ]
  },
  {
   "cell_type": "code",
   "execution_count": 150,
   "id": "328139d5",
   "metadata": {},
   "outputs": [],
   "source": [
    "#sprawdzamy czy wystepuje korelacja\n",
    "from scipy.stats import pearsonr, spearmanr \n",
    "#import dwóch testów statystycznych "
   ]
  },
  {
   "cell_type": "code",
   "execution_count": 151,
   "id": "1bc854cc",
   "metadata": {},
   "outputs": [
    {
     "data": {
      "text/plain": [
       "(0.7635868855086893, 0.0)"
      ]
     },
     "execution_count": 151,
     "metadata": {},
     "output_type": "execute_result"
    }
   ],
   "source": [
    "pearsonr(x,y)"
   ]
  },
  {
   "cell_type": "code",
   "execution_count": 152,
   "id": "45bcce15",
   "metadata": {},
   "outputs": [
    {
     "data": {
      "text/plain": [
       "SpearmanrResult(correlation=0.7720387637016054, pvalue=0.0)"
      ]
     },
     "execution_count": 152,
     "metadata": {},
     "output_type": "execute_result"
    }
   ],
   "source": [
    "spearmanr(x,y)"
   ]
  },
  {
   "cell_type": "code",
   "execution_count": 153,
   "id": "20a2bcd8",
   "metadata": {},
   "outputs": [],
   "source": [
    "# w obiektach typu data frame są gotowe metody do obliczenia korelacji."
   ]
  },
  {
   "cell_type": "code",
   "execution_count": 154,
   "id": "f930e2ad",
   "metadata": {},
   "outputs": [
    {
     "data": {
      "text/html": [
       "<div>\n",
       "<style scoped>\n",
       "    .dataframe tbody tr th:only-of-type {\n",
       "        vertical-align: middle;\n",
       "    }\n",
       "\n",
       "    .dataframe tbody tr th {\n",
       "        vertical-align: top;\n",
       "    }\n",
       "\n",
       "    .dataframe thead th {\n",
       "        text-align: right;\n",
       "    }\n",
       "</style>\n",
       "<table border=\"1\" class=\"dataframe\">\n",
       "  <thead>\n",
       "    <tr style=\"text-align: right;\">\n",
       "      <th></th>\n",
       "      <th>x</th>\n",
       "      <th>y</th>\n",
       "    </tr>\n",
       "  </thead>\n",
       "  <tbody>\n",
       "    <tr>\n",
       "      <th>0</th>\n",
       "      <td>2</td>\n",
       "      <td>8.029931</td>\n",
       "    </tr>\n",
       "    <tr>\n",
       "      <th>1</th>\n",
       "      <td>5</td>\n",
       "      <td>29.111195</td>\n",
       "    </tr>\n",
       "    <tr>\n",
       "      <th>2</th>\n",
       "      <td>-10</td>\n",
       "      <td>-25.759701</td>\n",
       "    </tr>\n",
       "    <tr>\n",
       "      <th>3</th>\n",
       "      <td>-7</td>\n",
       "      <td>-21.759662</td>\n",
       "    </tr>\n",
       "    <tr>\n",
       "      <th>4</th>\n",
       "      <td>-7</td>\n",
       "      <td>-13.749474</td>\n",
       "    </tr>\n",
       "    <tr>\n",
       "      <th>...</th>\n",
       "      <td>...</td>\n",
       "      <td>...</td>\n",
       "    </tr>\n",
       "    <tr>\n",
       "      <th>4995</th>\n",
       "      <td>-6</td>\n",
       "      <td>-12.988602</td>\n",
       "    </tr>\n",
       "    <tr>\n",
       "      <th>4996</th>\n",
       "      <td>1</td>\n",
       "      <td>5.995345</td>\n",
       "    </tr>\n",
       "    <tr>\n",
       "      <th>4997</th>\n",
       "      <td>5</td>\n",
       "      <td>-4.511550</td>\n",
       "    </tr>\n",
       "    <tr>\n",
       "      <th>4998</th>\n",
       "      <td>-1</td>\n",
       "      <td>-4.596051</td>\n",
       "    </tr>\n",
       "    <tr>\n",
       "      <th>4999</th>\n",
       "      <td>-4</td>\n",
       "      <td>-12.105480</td>\n",
       "    </tr>\n",
       "  </tbody>\n",
       "</table>\n",
       "<p>5000 rows × 2 columns</p>\n",
       "</div>"
      ],
      "text/plain": [
       "       x          y\n",
       "0      2   8.029931\n",
       "1      5  29.111195\n",
       "2    -10 -25.759701\n",
       "3     -7 -21.759662\n",
       "4     -7 -13.749474\n",
       "...   ..        ...\n",
       "4995  -6 -12.988602\n",
       "4996   1   5.995345\n",
       "4997   5  -4.511550\n",
       "4998  -1  -4.596051\n",
       "4999  -4 -12.105480\n",
       "\n",
       "[5000 rows x 2 columns]"
      ]
     },
     "execution_count": 154,
     "metadata": {},
     "output_type": "execute_result"
    }
   ],
   "source": [
    "df = pd.DataFrame({\"x\":x, \"y\":y})\n",
    "df"
   ]
  },
  {
   "cell_type": "code",
   "execution_count": 156,
   "id": "b13d7736",
   "metadata": {},
   "outputs": [
    {
     "data": {
      "text/html": [
       "<div>\n",
       "<style scoped>\n",
       "    .dataframe tbody tr th:only-of-type {\n",
       "        vertical-align: middle;\n",
       "    }\n",
       "\n",
       "    .dataframe tbody tr th {\n",
       "        vertical-align: top;\n",
       "    }\n",
       "\n",
       "    .dataframe thead th {\n",
       "        text-align: right;\n",
       "    }\n",
       "</style>\n",
       "<table border=\"1\" class=\"dataframe\">\n",
       "  <thead>\n",
       "    <tr style=\"text-align: right;\">\n",
       "      <th></th>\n",
       "      <th>x</th>\n",
       "      <th>y</th>\n",
       "    </tr>\n",
       "  </thead>\n",
       "  <tbody>\n",
       "    <tr>\n",
       "      <th>x</th>\n",
       "      <td>1.000000</td>\n",
       "      <td>0.763587</td>\n",
       "    </tr>\n",
       "    <tr>\n",
       "      <th>y</th>\n",
       "      <td>0.763587</td>\n",
       "      <td>1.000000</td>\n",
       "    </tr>\n",
       "  </tbody>\n",
       "</table>\n",
       "</div>"
      ],
      "text/plain": [
       "          x         y\n",
       "x  1.000000  0.763587\n",
       "y  0.763587  1.000000"
      ]
     },
     "execution_count": 156,
     "metadata": {},
     "output_type": "execute_result"
    }
   ],
   "source": [
    "df.corr() # obliczenie korelacji pearsona"
   ]
  },
  {
   "cell_type": "code",
   "execution_count": null,
   "id": "a02ce956",
   "metadata": {},
   "outputs": [],
   "source": []
  },
  {
   "cell_type": "code",
   "execution_count": null,
   "id": "0d27fcef",
   "metadata": {},
   "outputs": [],
   "source": []
  }
 ],
 "metadata": {
  "kernelspec": {
   "display_name": "Python 3 (ipykernel)",
   "language": "python",
   "name": "python3"
  },
  "language_info": {
   "codemirror_mode": {
    "name": "ipython",
    "version": 3
   },
   "file_extension": ".py",
   "mimetype": "text/x-python",
   "name": "python",
   "nbconvert_exporter": "python",
   "pygments_lexer": "ipython3",
   "version": "3.9.7"
  }
 },
 "nbformat": 4,
 "nbformat_minor": 5
}
