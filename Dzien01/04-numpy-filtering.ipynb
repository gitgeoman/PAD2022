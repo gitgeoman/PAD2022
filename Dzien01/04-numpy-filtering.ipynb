{
 "cells": [
  {
   "cell_type": "code",
   "execution_count": 1,
   "id": "2b1ec13f",
   "metadata": {},
   "outputs": [],
   "source": [
    "import numpy as np"
   ]
  },
  {
   "cell_type": "code",
   "execution_count": 15,
   "id": "65fbbf4d",
   "metadata": {},
   "outputs": [],
   "source": [
    "#danowe wjeściowe\n",
    "numbers_list=[-20,-1,10,50,-100,100, -512, 123, 432,111,-1024]"
   ]
  },
  {
   "cell_type": "code",
   "execution_count": 16,
   "id": "ac5a2555",
   "metadata": {},
   "outputs": [
    {
     "data": {
      "text/plain": [
       "[10, 50, 100, 123, 432, 111]"
      ]
     },
     "execution_count": 16,
     "metadata": {},
     "output_type": "execute_result"
    }
   ],
   "source": [
    "# klasycznie filtrownaie danych większych od zera\n",
    "[x for x in numbers_list if x>0]"
   ]
  },
  {
   "cell_type": "code",
   "execution_count": 17,
   "id": "940fc95e",
   "metadata": {},
   "outputs": [
    {
     "data": {
      "text/plain": [
       "array([False, False,  True,  True, False,  True, False,  True,  True,\n",
       "        True, False])"
      ]
     },
     "execution_count": 17,
     "metadata": {},
     "output_type": "execute_result"
    }
   ],
   "source": [
    "#przy użyciu numpy\n",
    "arr = np.array(numbers_list)\n",
    "arr>0 # okazuje się że takie wyrażenie zwracana indykator który wskazuje na którym indeksie warunekt nie został spełniony"
   ]
  },
  {
   "cell_type": "code",
   "execution_count": 18,
   "id": "4b8dd739",
   "metadata": {},
   "outputs": [
    {
     "data": {
      "text/plain": [
       "array([ 10,  50, 100, 123, 432, 111])"
      ]
     },
     "execution_count": 18,
     "metadata": {},
     "output_type": "execute_result"
    }
   ],
   "source": [
    "arr[arr>0] # tu jest jak przefiltrować dane"
   ]
  },
  {
   "cell_type": "code",
   "execution_count": 20,
   "id": "214aa843",
   "metadata": {},
   "outputs": [
    {
     "data": {
      "text/plain": [
       "array([  -20,    10,    50,  -100,   100,  -512,   432, -1024])"
      ]
     },
     "execution_count": 20,
     "metadata": {},
     "output_type": "execute_result"
    }
   ],
   "source": [
    "arr[arr%2==0]"
   ]
  },
  {
   "cell_type": "code",
   "execution_count": 26,
   "id": "71e26d5d",
   "metadata": {},
   "outputs": [
    {
     "data": {
      "text/plain": [
       "array([ 10,  50, 100])"
      ]
     },
     "execution_count": 26,
     "metadata": {},
     "output_type": "execute_result"
    }
   ],
   "source": [
    "#pokaż tylko >0 i jednocześnie <=100 ->trzeba stosować operatory bitowe\n",
    "arr[(arr>0)&(arr<=100)]"
   ]
  },
  {
   "cell_type": "code",
   "execution_count": 29,
   "id": "7d517ae2",
   "metadata": {},
   "outputs": [
    {
     "data": {
      "text/plain": [
       "array([  -20,    -1,  -100,  -512,   123,   432,   111, -1024])"
      ]
     },
     "execution_count": 29,
     "metadata": {},
     "output_type": "execute_result"
    }
   ],
   "source": [
    "#pokaż tylko <0 i jednocześnie <100 ->trzeba stosować operatory bitowe\n",
    "arr[(arr<0)|(arr>100)]"
   ]
  },
  {
   "cell_type": "code",
   "execution_count": 49,
   "id": "bf3a150a",
   "metadata": {},
   "outputs": [
    {
     "data": {
      "text/plain": [
       "array([-1.,  4., 10., nan, 15., 20., nan])"
      ]
     },
     "execution_count": 49,
     "metadata": {},
     "output_type": "execute_result"
    }
   ],
   "source": [
    "#tablica z NaN\n",
    "tablica = np.array([-1,4,10, np.NaN, 15, 20, np.NaN]) #np.NaN - specjalna metoda do wstawiania do tablicy nan\n",
    "tablica"
   ]
  },
  {
   "cell_type": "code",
   "execution_count": 50,
   "id": "c03104dd",
   "metadata": {},
   "outputs": [
    {
     "data": {
      "text/plain": [
       "array([-1.,  4., 10., 15., 20.])"
      ]
     },
     "execution_count": 50,
     "metadata": {},
     "output_type": "execute_result"
    }
   ],
   "source": [
    "#żeby dostać wywnik filtroania trzeba zanegować wynik wyszukania realizowanego przy użyciu metody isnan \n",
    "#do negacji używamy używamy bitwise operator (znak tylda)\n",
    "tablica[~np.isnan(tablica)]"
   ]
  },
  {
   "cell_type": "code",
   "execution_count": 52,
   "id": "b394e789",
   "metadata": {},
   "outputs": [
    {
     "data": {
      "text/plain": [
       "(9.6, 10.0, 7.49933330370107, -1.0, 20.0)"
      ]
     },
     "execution_count": 52,
     "metadata": {},
     "output_type": "execute_result"
    }
   ],
   "source": [
    "#w numpy jest sporta grupa funkcji universal funkction (ufank) \n",
    "# np są gotowe narzędzia do obliczenia mediany, średnie, odchylenie \n",
    "tablica = tablica[~np.isnan(tablica)]\n",
    "np.mean(tablica), np.median(tablica), np.std(tablica), np.min(tablica), np.max(tablica)"
   ]
  },
  {
   "cell_type": "code",
   "execution_count": null,
   "id": "003a916f",
   "metadata": {},
   "outputs": [],
   "source": []
  }
 ],
 "metadata": {
  "kernelspec": {
   "display_name": "Python 3 (ipykernel)",
   "language": "python",
   "name": "python3"
  },
  "language_info": {
   "codemirror_mode": {
    "name": "ipython",
    "version": 3
   },
   "file_extension": ".py",
   "mimetype": "text/x-python",
   "name": "python",
   "nbconvert_exporter": "python",
   "pygments_lexer": "ipython3",
   "version": "3.9.7"
  }
 },
 "nbformat": 4,
 "nbformat_minor": 5
}
