{
 "cells": [
  {
   "cell_type": "code",
   "execution_count": 8,
   "id": "68000e29",
   "metadata": {},
   "outputs": [],
   "source": [
    "import numpy as np"
   ]
  },
  {
   "cell_type": "code",
   "execution_count": 62,
   "id": "d36edc06",
   "metadata": {},
   "outputs": [
    {
     "data": {
      "text/plain": [
       "(array([10, 20, 30, 40, 50, 60, 70]), array([1, 2, 3, 4, 5, 6, 7]))"
      ]
     },
     "execution_count": 62,
     "metadata": {},
     "output_type": "execute_result"
    }
   ],
   "source": [
    "a = np.arange(10,71,10)\n",
    "b = np.arange(1,8,1)\n",
    "a, b"
   ]
  },
  {
   "cell_type": "code",
   "execution_count": 63,
   "id": "aef0eb3b",
   "metadata": {},
   "outputs": [
    {
     "data": {
      "text/plain": [
       "(array([11, 22, 33, 44, 55, 66, 77]),\n",
       " array([ 9, 18, 27, 36, 45, 54, 63]),\n",
       " array([ 10,  40,  90, 160, 250, 360, 490]),\n",
       " array([15, 25, 35, 45, 55, 65, 75]),\n",
       " array([ 1,  4,  9, 16, 25, 36, 49], dtype=int32))"
      ]
     },
     "execution_count": 63,
     "metadata": {},
     "output_type": "execute_result"
    }
   ],
   "source": [
    "#operacje na tabelach\n",
    "#dodawanie, odejmowanie, mnożenie, dodatawanie stałej macierzy\n",
    "a+b, a-b, a*b, a+5, b**2"
   ]
  },
  {
   "cell_type": "code",
   "execution_count": 64,
   "id": "81e24782",
   "metadata": {},
   "outputs": [
    {
     "data": {
      "text/plain": [
       "array([ 20,  40,  60,  80, 100, 120, 140])"
      ]
     },
     "execution_count": 64,
     "metadata": {},
     "output_type": "execute_result"
    }
   ],
   "source": [
    "#mnożenie tabel\n",
    "a*=2\n",
    "a"
   ]
  },
  {
   "cell_type": "code",
   "execution_count": 34,
   "id": "4bdda5af",
   "metadata": {},
   "outputs": [
    {
     "data": {
      "text/plain": [
       "dtype('float64')"
      ]
     },
     "execution_count": 34,
     "metadata": {},
     "output_type": "execute_result"
    }
   ],
   "source": [
    "#a/=3 to nie zadzaiała ponieważ w wyniku dzielenia zmienia się typ wartości wewnątrz tablicy z int na float \n",
    "a=a/3\n",
    "a.dtype"
   ]
  },
  {
   "cell_type": "markdown",
   "id": "b070a90c",
   "metadata": {},
   "source": [
    "## Broadcasting tablic pythonowych:"
   ]
  },
  {
   "cell_type": "code",
   "execution_count": 67,
   "id": "cb5814ad",
   "metadata": {},
   "outputs": [
    {
     "data": {
      "text/plain": [
       "(array([[1],\n",
       "        [2],\n",
       "        [3]]),\n",
       " array([1, 2, 3]))"
      ]
     },
     "execution_count": 67,
     "metadata": {},
     "output_type": "execute_result"
    }
   ],
   "source": [
    "#tworze tablice do przeprowadzenia bradcastowania, wyświetlam obie tablice \n",
    "arr1= np.array([[1],[2],[3]])\n",
    "arr2= np.array([1, 2, 3])\n",
    "arr1, arr2"
   ]
  },
  {
   "cell_type": "code",
   "execution_count": 44,
   "id": "523a39fd",
   "metadata": {},
   "outputs": [
    {
     "data": {
      "text/plain": [
       "array([[1, 2, 3],\n",
       "       [2, 4, 6],\n",
       "       [3, 6, 9]])"
      ]
     },
     "execution_count": 44,
     "metadata": {},
     "output_type": "execute_result"
    }
   ],
   "source": [
    "#to jest broadcasting mówiąc prościej jest to  reshape (rozciąganie) mniejszej macierzy do większej\n",
    "#możliwe jest też dociąganie obu tablic, zwrócić uwagę należy że to nie jest operator mnożenia macieżowego\n",
    "#mnożone macieżowe jest zdefiniowane specjalną funkcją numpy\n",
    "arr1*arr2"
   ]
  },
  {
   "cell_type": "markdown",
   "id": "307c6685",
   "metadata": {},
   "source": [
    "## wybieranie danych z tablicy\n",
    "\n"
   ]
  },
  {
   "cell_type": "code",
   "execution_count": 23,
   "id": "e4cce8e0",
   "metadata": {},
   "outputs": [
    {
     "data": {
      "text/plain": [
       "array([[  2,   5, -10,  -7,  -7,  -3,  -1,   9],\n",
       "       [  8,  -6,  -4,   2,  -9,  -4,  -3,   4],\n",
       "       [  7,  -5,   3,  -2,  -1,  10,   9,   6],\n",
       "       [  9,  -5,   5,   5, -10,   8,  -7,   7],\n",
       "       [  9,   9,   9,   4,  -3, -10,  -9,  -1],\n",
       "       [-10,   0,  10,  -7,   1,   8,  -8, -10],\n",
       "       [-10,  -6,  -5,  -4,  -2,  10,   7,   5]])"
      ]
     },
     "execution_count": 23,
     "metadata": {},
     "output_type": "execute_result"
    }
   ],
   "source": [
    "np.random.seed(0)\n",
    "arr = np.random.randint(-10,11,(7,8))\n",
    "arr"
   ]
  },
  {
   "cell_type": "code",
   "execution_count": 11,
   "id": "59de4758",
   "metadata": {},
   "outputs": [
    {
     "data": {
      "text/plain": [
       "(array([-10,  -6,  -5,  -4,  -2,  10,   7,   5]),\n",
       " array([-10,  -6,  -5,  -4,  -2,  10,   7,   5]))"
      ]
     },
     "execution_count": 11,
     "metadata": {},
     "output_type": "execute_result"
    }
   ],
   "source": [
    "#ostatni wiersz\n",
    "arr[6],arr[-1]"
   ]
  },
  {
   "cell_type": "code",
   "execution_count": 14,
   "id": "6344a33b",
   "metadata": {},
   "outputs": [
    {
     "data": {
      "text/plain": [
       "array([[ 8,  2, -3],\n",
       "       [ 7, -2,  9]])"
      ]
     },
     "execution_count": 14,
     "metadata": {},
     "output_type": "execute_result"
    }
   ],
   "source": [
    "#wiersz 2 i 3, co 3 cia kolumna (slice danych)\n",
    "arr[1:3, ::3]"
   ]
  },
  {
   "cell_type": "code",
   "execution_count": 16,
   "id": "0a0d2d43",
   "metadata": {},
   "outputs": [
    {
     "data": {
      "text/plain": [
       "array([[  2,   5, -10,  -7,  -7,  -3,  -1,   9],\n",
       "       [-10,  -6,  -5,  -4,  -2,  10,   7,   5]])"
      ]
     },
     "execution_count": 16,
     "metadata": {},
     "output_type": "execute_result"
    }
   ],
   "source": [
    "#tylko wiersz pierwszy i ostatni\n",
    "arr[[0,-1]]"
   ]
  },
  {
   "cell_type": "code",
   "execution_count": 17,
   "id": "1d206c44",
   "metadata": {},
   "outputs": [
    {
     "data": {
      "text/plain": [
       "array([[-10,  -6,  -5,  -4,  -2,  10,   7,   5],\n",
       "       [  2,   5, -10,  -7,  -7,  -3,  -1,   9]])"
      ]
     },
     "execution_count": 17,
     "metadata": {},
     "output_type": "execute_result"
    }
   ],
   "source": [
    "#tylko wiersz ostatni a potem pierwszy\n",
    "arr[[-1,0]]"
   ]
  },
  {
   "cell_type": "code",
   "execution_count": 24,
   "id": "8d82e664",
   "metadata": {},
   "outputs": [
    {
     "data": {
      "text/plain": [
       "array([  9,   4,   6,   7,  -1, -10,   5])"
      ]
     },
     "execution_count": 24,
     "metadata": {},
     "output_type": "execute_result"
    }
   ],
   "source": [
    "#ostatnia kolumna\n",
    "arr[:,-1]"
   ]
  },
  {
   "cell_type": "code",
   "execution_count": 27,
   "id": "94f94738",
   "metadata": {},
   "outputs": [
    {
     "data": {
      "text/plain": [
       "array([[  9],\n",
       "       [  4],\n",
       "       [  6],\n",
       "       [  7],\n",
       "       [ -1],\n",
       "       [-10],\n",
       "       [  5]])"
      ]
     },
     "execution_count": 27,
     "metadata": {},
     "output_type": "execute_result"
    }
   ],
   "source": [
    "#ostatnia kolumna\n",
    "arr[:,[-1]]"
   ]
  },
  {
   "cell_type": "code",
   "execution_count": 33,
   "id": "a9112628",
   "metadata": {},
   "outputs": [
    {
     "data": {
      "text/plain": [
       "array([  9,   4,   6,   7,  -1, -10,   5])"
      ]
     },
     "execution_count": 33,
     "metadata": {},
     "output_type": "execute_result"
    }
   ],
   "source": [
    "#TRANSPOZYCJA \n",
    "arr.transpose()[-1] #pierwsza metoda\n",
    "arr.T[-1] #druga metoda"
   ]
  },
  {
   "cell_type": "code",
   "execution_count": 34,
   "id": "772d3798",
   "metadata": {},
   "outputs": [],
   "source": [
    "#numpy - indexing/slicing - doczytać\n",
    "\n",
    "#iterowanie - tablice mają wbudowany generator więc można względem nich interować"
   ]
  },
  {
   "cell_type": "code",
   "execution_count": 40,
   "id": "fe08a821",
   "metadata": {},
   "outputs": [
    {
     "name": "stdout",
     "output_type": "stream",
     "text": [
      "[  2   5 -10  -7  -7  -3  -1   9]\n",
      "==================================================\n",
      "[ 8 -6 -4  2 -9 -4 -3  4]\n",
      "==================================================\n",
      "[ 7 -5  3 -2 -1 10  9  6]\n",
      "==================================================\n",
      "[  9  -5   5   5 -10   8  -7   7]\n",
      "==================================================\n",
      "[  9   9   9   4  -3 -10  -9  -1]\n",
      "==================================================\n",
      "[-10   0  10  -7   1   8  -8 -10]\n",
      "==================================================\n",
      "[-10  -6  -5  -4  -2  10   7   5]\n",
      "==================================================\n"
     ]
    }
   ],
   "source": [
    "for row in arr:\n",
    "    print (row)\n",
    "    print('='*50)"
   ]
  },
  {
   "cell_type": "markdown",
   "id": "3767a4f4",
   "metadata": {},
   "source": [
    "# Porównanie wartości między python list a numpy list"
   ]
  },
  {
   "cell_type": "code",
   "execution_count": 54,
   "id": "8b0baca3",
   "metadata": {},
   "outputs": [
    {
     "name": "stdout",
     "output_type": "stream",
     "text": [
      "298 µs ± 11 µs per loop (mean ± std. dev. of 20 runs, 500 loops each)\n"
     ]
    }
   ],
   "source": [
    "%%timeit -r 20 -n 500 \n",
    "[x**2 for x in range(1, 1001)]"
   ]
  },
  {
   "cell_type": "code",
   "execution_count": 55,
   "id": "a3d8ec11",
   "metadata": {},
   "outputs": [
    {
     "name": "stdout",
     "output_type": "stream",
     "text": [
      "3.59 µs ± 461 ns per loop (mean ± std. dev. of 20 runs, 500 loops each)\n"
     ]
    }
   ],
   "source": [
    "%%timeit -r 20 -n 500\n",
    "np.arange(1, 1001)**2"
   ]
  },
  {
   "cell_type": "code",
   "execution_count": 58,
   "id": "34733e42",
   "metadata": {},
   "outputs": [
    {
     "data": {
      "text/plain": [
       "83.008356545961"
      ]
     },
     "execution_count": 58,
     "metadata": {},
     "output_type": "execute_result"
    }
   ],
   "source": [
    "298/3.59"
   ]
  },
  {
   "cell_type": "code",
   "execution_count": null,
   "id": "6bbe9818",
   "metadata": {},
   "outputs": [],
   "source": []
  }
 ],
 "metadata": {
  "kernelspec": {
   "display_name": "Python 3 (ipykernel)",
   "language": "python",
   "name": "python3"
  },
  "language_info": {
   "codemirror_mode": {
    "name": "ipython",
    "version": 3
   },
   "file_extension": ".py",
   "mimetype": "text/x-python",
   "name": "python",
   "nbconvert_exporter": "python",
   "pygments_lexer": "ipython3",
   "version": "3.9.7"
  }
 },
 "nbformat": 4,
 "nbformat_minor": 5
}
