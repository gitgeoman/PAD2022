{
 "cells": [
  {
   "cell_type": "code",
   "execution_count": 9,
   "id": "93bf0cc1",
   "metadata": {},
   "outputs": [],
   "source": [
    "import numpy as np\n",
    "import time # biblioteka do obsługi czasu"
   ]
  },
  {
   "cell_type": "code",
   "execution_count": 10,
   "id": "4d8a8d3c",
   "metadata": {},
   "outputs": [
    {
     "name": "stdout",
     "output_type": "stream",
     "text": [
      "1.20.3\n"
     ]
    }
   ],
   "source": [
    "#sprawdzanie wersji biblioteki numpy\n",
    "print(np.__version__) "
   ]
  },
  {
   "cell_type": "code",
   "execution_count": 13,
   "id": "9a9cbc72",
   "metadata": {},
   "outputs": [
    {
     "name": "stdout",
     "output_type": "stream",
     "text": [
      "1639990590.4254217\n"
     ]
    }
   ],
   "source": [
    "#deklaracja zmiennych w python\n",
    "x= 10\n",
    "y=-2.5\n",
    "print(time.time())"
   ]
  },
  {
   "cell_type": "code",
   "execution_count": 16,
   "id": "e5322c74",
   "metadata": {},
   "outputs": [],
   "source": [
    "#deklaracja pustej klasy\n",
    "class TestClass:\n",
    "    pass\n"
   ]
  },
  {
   "cell_type": "markdown",
   "id": "7fb34609",
   "metadata": {},
   "source": [
    "#Przykład formatowania tekstu w notebooku\n",
    "<a href='https://alx.pl'>  Nagłówek 1 </a>\n",
    "## Nagłówek 2\n",
    "### Nagłówek 3\n",
    "Gdy piszemy jakiś tekst w snippet to może on być  **pogrubiony**, *kursywa* albo ***jedno i drugie***\n",
    "Można również tworzyć w snippetach listy:\n",
    "- li1\n",
    "- li2\n",
    "\n",
    "Moga być one numerowane:\n",
    "1. li1\n",
    "2. li3"
   ]
  },
  {
   "cell_type": "markdown",
   "id": "44f0b4b5",
   "metadata": {},
   "source": [
    "# Maginczne komendy\n",
    "Magiczne komendy to dodataki/usprawnienia do pythona w postaci funkcji które umożliwiają realizację okreslonych operacji. "
   ]
  },
  {
   "cell_type": "code",
   "execution_count": 20,
   "id": "418d583f",
   "metadata": {},
   "outputs": [
    {
     "data": {
      "application/json": {
       "cell": {
        "!": "OSMagics",
        "HTML": "Other",
        "SVG": "Other",
        "bash": "Other",
        "capture": "ExecutionMagics",
        "cmd": "Other",
        "debug": "ExecutionMagics",
        "file": "Other",
        "html": "DisplayMagics",
        "javascript": "DisplayMagics",
        "js": "DisplayMagics",
        "latex": "DisplayMagics",
        "markdown": "DisplayMagics",
        "perl": "Other",
        "prun": "ExecutionMagics",
        "pypy": "Other",
        "python": "Other",
        "python2": "Other",
        "python3": "Other",
        "ruby": "Other",
        "script": "ScriptMagics",
        "sh": "Other",
        "svg": "DisplayMagics",
        "sx": "OSMagics",
        "system": "OSMagics",
        "time": "ExecutionMagics",
        "timeit": "ExecutionMagics",
        "writefile": "OSMagics"
       },
       "line": {
        "alias": "OSMagics",
        "alias_magic": "BasicMagics",
        "autoawait": "AsyncMagics",
        "autocall": "AutoMagics",
        "automagic": "AutoMagics",
        "autosave": "KernelMagics",
        "bookmark": "OSMagics",
        "cd": "OSMagics",
        "clear": "KernelMagics",
        "cls": "KernelMagics",
        "colors": "BasicMagics",
        "conda": "PackagingMagics",
        "config": "ConfigMagics",
        "connect_info": "KernelMagics",
        "copy": "Other",
        "ddir": "Other",
        "debug": "ExecutionMagics",
        "dhist": "OSMagics",
        "dirs": "OSMagics",
        "doctest_mode": "BasicMagics",
        "echo": "Other",
        "ed": "Other",
        "edit": "KernelMagics",
        "env": "OSMagics",
        "gui": "BasicMagics",
        "hist": "Other",
        "history": "HistoryMagics",
        "killbgscripts": "ScriptMagics",
        "ldir": "Other",
        "less": "KernelMagics",
        "load": "CodeMagics",
        "load_ext": "ExtensionMagics",
        "loadpy": "CodeMagics",
        "logoff": "LoggingMagics",
        "logon": "LoggingMagics",
        "logstart": "LoggingMagics",
        "logstate": "LoggingMagics",
        "logstop": "LoggingMagics",
        "ls": "Other",
        "lsmagic": "BasicMagics",
        "macro": "ExecutionMagics",
        "magic": "BasicMagics",
        "matplotlib": "PylabMagics",
        "mkdir": "Other",
        "more": "KernelMagics",
        "notebook": "BasicMagics",
        "page": "BasicMagics",
        "pastebin": "CodeMagics",
        "pdb": "ExecutionMagics",
        "pdef": "NamespaceMagics",
        "pdoc": "NamespaceMagics",
        "pfile": "NamespaceMagics",
        "pinfo": "NamespaceMagics",
        "pinfo2": "NamespaceMagics",
        "pip": "PackagingMagics",
        "popd": "OSMagics",
        "pprint": "BasicMagics",
        "precision": "BasicMagics",
        "prun": "ExecutionMagics",
        "psearch": "NamespaceMagics",
        "psource": "NamespaceMagics",
        "pushd": "OSMagics",
        "pwd": "OSMagics",
        "pycat": "OSMagics",
        "pylab": "PylabMagics",
        "qtconsole": "KernelMagics",
        "quickref": "BasicMagics",
        "recall": "HistoryMagics",
        "rehashx": "OSMagics",
        "reload_ext": "ExtensionMagics",
        "ren": "Other",
        "rep": "Other",
        "rerun": "HistoryMagics",
        "reset": "NamespaceMagics",
        "reset_selective": "NamespaceMagics",
        "rmdir": "Other",
        "run": "ExecutionMagics",
        "save": "CodeMagics",
        "sc": "OSMagics",
        "set_env": "OSMagics",
        "store": "StoreMagics",
        "sx": "OSMagics",
        "system": "OSMagics",
        "tb": "ExecutionMagics",
        "time": "ExecutionMagics",
        "timeit": "ExecutionMagics",
        "unalias": "OSMagics",
        "unload_ext": "ExtensionMagics",
        "who": "NamespaceMagics",
        "who_ls": "NamespaceMagics",
        "whos": "NamespaceMagics",
        "xdel": "NamespaceMagics",
        "xmode": "BasicMagics"
       }
      },
      "text/plain": [
       "Available line magics:\n",
       "%alias  %alias_magic  %autoawait  %autocall  %automagic  %autosave  %bookmark  %cd  %clear  %cls  %colors  %conda  %config  %connect_info  %copy  %ddir  %debug  %dhist  %dirs  %doctest_mode  %echo  %ed  %edit  %env  %gui  %hist  %history  %killbgscripts  %ldir  %less  %load  %load_ext  %loadpy  %logoff  %logon  %logstart  %logstate  %logstop  %ls  %lsmagic  %macro  %magic  %matplotlib  %mkdir  %more  %notebook  %page  %pastebin  %pdb  %pdef  %pdoc  %pfile  %pinfo  %pinfo2  %pip  %popd  %pprint  %precision  %prun  %psearch  %psource  %pushd  %pwd  %pycat  %pylab  %qtconsole  %quickref  %recall  %rehashx  %reload_ext  %ren  %rep  %rerun  %reset  %reset_selective  %rmdir  %run  %save  %sc  %set_env  %store  %sx  %system  %tb  %time  %timeit  %unalias  %unload_ext  %who  %who_ls  %whos  %xdel  %xmode\n",
       "\n",
       "Available cell magics:\n",
       "%%!  %%HTML  %%SVG  %%bash  %%capture  %%cmd  %%debug  %%file  %%html  %%javascript  %%js  %%latex  %%markdown  %%perl  %%prun  %%pypy  %%python  %%python2  %%python3  %%ruby  %%script  %%sh  %%svg  %%sx  %%system  %%time  %%timeit  %%writefile\n",
       "\n",
       "Automagic is ON, % prefix IS NOT needed for line magics."
      ]
     },
     "execution_count": 20,
     "metadata": {},
     "output_type": "execute_result"
    }
   ],
   "source": [
    "#lista magicznych komend wywoujemy przy użyciu poniższej komendy\n",
    "%lsmagic"
   ]
  },
  {
   "cell_type": "code",
   "execution_count": 21,
   "id": "49d9bcda",
   "metadata": {},
   "outputs": [],
   "source": [
    "#gdy trzeba doinstalowaać jakieś biblioteki zewnętrzene to można to zrobić przy użyciu takiej metody\n",
    "\n",
    "####Wykonywanie polceń systemu operacyjnego\n"
   ]
  },
  {
   "cell_type": "code",
   "execution_count": 47,
   "id": "45ad1184",
   "metadata": {},
   "outputs": [
    {
     "name": "stdout",
     "output_type": "stream",
     "text": [
      "Requirement already satisfied: pydotplus in c:\\users\\kurs\\anaconda3\\lib\\site-packages (2.0.2)\n",
      "Requirement already satisfied: pyparsing>=2.0.1 in c:\\users\\kurs\\anaconda3\\lib\\site-packages (from pydotplus) (3.0.4)\n"
     ]
    }
   ],
   "source": [
    "# instalacja dodatkowej biblioteki\n",
    "!pip install pydotplus "
   ]
  },
  {
   "cell_type": "code",
   "execution_count": 25,
   "id": "1919c406",
   "metadata": {},
   "outputs": [
    {
     "data": {
      "text/plain": [
       "1.2342532345"
      ]
     },
     "execution_count": 25,
     "metadata": {},
     "output_type": "execute_result"
    }
   ],
   "source": [
    "x = 1.2342532345\n",
    "x"
   ]
  },
  {
   "cell_type": "code",
   "execution_count": 28,
   "id": "f3e99561",
   "metadata": {},
   "outputs": [
    {
     "data": {
      "text/plain": [
       "'%.3f'"
      ]
     },
     "execution_count": 28,
     "metadata": {},
     "output_type": "execute_result"
    }
   ],
   "source": [
    "# zmieni liczbę cyfr po przecinku domyślnie wyświetlanych\n",
    "%precision 3"
   ]
  },
  {
   "cell_type": "code",
   "execution_count": 32,
   "id": "4344ed91",
   "metadata": {},
   "outputs": [
    {
     "name": "stdout",
     "output_type": "stream",
     "text": [
      "-0.047652482986450195\n"
     ]
    }
   ],
   "source": [
    "#pomiar szybkości kodu\n",
    "a=time.time()\n",
    "sum(range (1,1_000_001))\n",
    "b=time.time()\n",
    "print(a-b)"
   ]
  },
  {
   "cell_type": "code",
   "execution_count": 33,
   "id": "2d85ce4f",
   "metadata": {},
   "outputs": [
    {
     "name": "stdout",
     "output_type": "stream",
     "text": [
      "Wall time: 47.7 ms\n"
     ]
    },
    {
     "data": {
      "text/plain": [
       "500000500000"
      ]
     },
     "execution_count": 33,
     "metadata": {},
     "output_type": "execute_result"
    }
   ],
   "source": [
    "%time sum(range (1,1_000_001))"
   ]
  },
  {
   "cell_type": "code",
   "execution_count": 45,
   "id": "bd285692",
   "metadata": {},
   "outputs": [
    {
     "ename": "SyntaxError",
     "evalue": "invalid syntax (Temp/ipykernel_6508/4060788895.py, line 1)",
     "output_type": "error",
     "traceback": [
      "\u001b[1;36m  File \u001b[1;32m\"C:\\Users\\kurs\\AppData\\Local\\Temp/ipykernel_6508/4060788895.py\"\u001b[1;36m, line \u001b[1;32m1\u001b[0m\n\u001b[1;33m    a = %%time\u001b[0m\n\u001b[1;37m        ^\u001b[0m\n\u001b[1;31mSyntaxError\u001b[0m\u001b[1;31m:\u001b[0m invalid syntax\n"
     ]
    }
   ],
   "source": [
    "%%time\n",
    "sum(range (1,1_000_001))\n",
    "sum(range (1,1_000_001))"
   ]
  },
  {
   "cell_type": "code",
   "execution_count": 41,
   "id": "d1b04c7e",
   "metadata": {},
   "outputs": [
    {
     "name": "stdout",
     "output_type": "stream",
     "text": [
      "129 ms ± 5.8 ms per loop (mean ± std. dev. of 10 runs, 10 loops each)\n"
     ]
    }
   ],
   "source": [
    "%%timeit -r 10 -n 10\n",
    "result=[]\n",
    "for x in range(1,1_000_001):\n",
    "    if x%2==0:\n",
    "        result.append(x)"
   ]
  },
  {
   "cell_type": "code",
   "execution_count": 42,
   "id": "e2ce9436",
   "metadata": {},
   "outputs": [
    {
     "name": "stdout",
     "output_type": "stream",
     "text": [
      "104 ms ± 5.48 ms per loop (mean ± std. dev. of 10 runs, 10 loops each)\n"
     ]
    }
   ],
   "source": [
    "%%timeit -r 10 -n 10\n",
    "[x for x in range(1,1_000_001) if x%2==0]"
   ]
  },
  {
   "cell_type": "code",
   "execution_count": 43,
   "id": "2b1a8830",
   "metadata": {},
   "outputs": [
    {
     "data": {
      "text/plain": [
       "0.806"
      ]
     },
     "execution_count": 43,
     "metadata": {},
     "output_type": "execute_result"
    }
   ],
   "source": [
    "#obliczenie zysku czasu (wyszło ok 18%)\n",
    "104/129"
   ]
  },
  {
   "cell_type": "code",
   "execution_count": null,
   "id": "d1c2a072",
   "metadata": {},
   "outputs": [],
   "source": []
  }
 ],
 "metadata": {
  "kernelspec": {
   "display_name": "Python 3 (ipykernel)",
   "language": "python",
   "name": "python3"
  },
  "language_info": {
   "codemirror_mode": {
    "name": "ipython",
    "version": 3
   },
   "file_extension": ".py",
   "mimetype": "text/x-python",
   "name": "python",
   "nbconvert_exporter": "python",
   "pygments_lexer": "ipython3",
   "version": "3.9.7"
  }
 },
 "nbformat": 4,
 "nbformat_minor": 5
}
