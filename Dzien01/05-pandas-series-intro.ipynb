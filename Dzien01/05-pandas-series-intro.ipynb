{
 "cells": [
  {
   "cell_type": "code",
   "execution_count": 1,
   "id": "753309fb",
   "metadata": {},
   "outputs": [],
   "source": [
    "import pandas as pd"
   ]
  },
  {
   "cell_type": "code",
   "execution_count": 2,
   "id": "e89e4771",
   "metadata": {},
   "outputs": [
    {
     "data": {
      "text/plain": [
       "'1.3.4'"
      ]
     },
     "execution_count": 2,
     "metadata": {},
     "output_type": "execute_result"
    }
   ],
   "source": [
    "pd.__version__"
   ]
  },
  {
   "cell_type": "code",
   "execution_count": 4,
   "id": "cd04dd29",
   "metadata": {},
   "outputs": [
    {
     "data": {
      "text/plain": [
       "0       Gdańsk\n",
       "1       Poznań\n",
       "2      Wrocław\n",
       "3     Warszawa\n",
       "4        Radom\n",
       "5    Sosnowiec\n",
       "dtype: object"
      ]
     },
     "execution_count": 4,
     "metadata": {},
     "output_type": "execute_result"
    }
   ],
   "source": [
    "cities = ['Gdańsk', \"Poznań\", \"Wrocław\", \"Warszawa\", \"Radom\", \"Sosnowiec\"]\n",
    "serie = pd.Series(cities)\n",
    "serie"
   ]
  },
  {
   "cell_type": "code",
   "execution_count": 6,
   "id": "55244fbd",
   "metadata": {},
   "outputs": [
    {
     "data": {
      "text/plain": [
       "array(['Gdańsk', 'Poznań', 'Wrocław', 'Warszawa', 'Radom', 'Sosnowiec'],\n",
       "      dtype=object)"
      ]
     },
     "execution_count": 6,
     "metadata": {},
     "output_type": "execute_result"
    }
   ],
   "source": [
    "#dostęp do danych\n",
    "serie.values"
   ]
  },
  {
   "cell_type": "code",
   "execution_count": 11,
   "id": "b45e81dc",
   "metadata": {},
   "outputs": [
    {
     "data": {
      "text/plain": [
       "[0, 1, 2, 3, 4, 5]"
      ]
     },
     "execution_count": 11,
     "metadata": {},
     "output_type": "execute_result"
    }
   ],
   "source": [
    "list(serie.index)"
   ]
  },
  {
   "cell_type": "code",
   "execution_count": 13,
   "id": "88ab7569",
   "metadata": {},
   "outputs": [
    {
     "data": {
      "text/plain": [
       "GD        Gdańsk\n",
       "PO        Poznań\n",
       "DW       Wrocław\n",
       "WI      Warszawa\n",
       "WRA        Radom\n",
       "so     Sosnowiec\n",
       "dtype: object"
      ]
     },
     "execution_count": 13,
     "metadata": {},
     "output_type": "execute_result"
    }
   ],
   "source": [
    "cities = ['Gdańsk', \"Poznań\", \"Wrocław\", \"Warszawa\", \"Radom\", \"Sosnowiec\"]\n",
    "plates = ['GD', \"PO\",\"DW\",\"WI\",\"WRA\",\"so\"]\n",
    "serie = pd.Series(cities, plates)\n",
    "serie"
   ]
  },
  {
   "cell_type": "code",
   "execution_count": 17,
   "id": "781906e2",
   "metadata": {},
   "outputs": [
    {
     "data": {
      "text/plain": [
       "Index(['GD', 'PO', 'DW', 'WI', 'WRA', 'so'], dtype='object')"
      ]
     },
     "execution_count": 17,
     "metadata": {},
     "output_type": "execute_result"
    }
   ],
   "source": [
    "serie.index"
   ]
  },
  {
   "cell_type": "code",
   "execution_count": 23,
   "id": "feca9547",
   "metadata": {},
   "outputs": [],
   "source": [
    "#reguła 3s - > start stop index"
   ]
  },
  {
   "cell_type": "code",
   "execution_count": 25,
   "id": "869d5d32",
   "metadata": {},
   "outputs": [
    {
     "data": {
      "text/plain": [
       "Poland      38321543\n",
       "Germany     84123567\n",
       "Russia     150765222\n",
       "USA        320987654\n",
       "UK          62123456\n",
       "dtype: int64"
      ]
     },
     "execution_count": 25,
     "metadata": {},
     "output_type": "execute_result"
    }
   ],
   "source": [
    "#wprowadzam dane\n",
    "countries =[\"Poland\",\"Germany\", \"Russia\", \"USA\", \"UK\"]\n",
    "population = [38_321_543, 84_123_567, 150_765_222, 320_987_654,62_123_456]\n",
    "serie = pd.Series(population, countries )\n",
    "serie"
   ]
  },
  {
   "cell_type": "code",
   "execution_count": 34,
   "id": "90997b0a",
   "metadata": {},
   "outputs": [
    {
     "data": {
      "text/plain": [
       "Poland     False\n",
       "Germany     True\n",
       "Russia      True\n",
       "USA         True\n",
       "UK         False\n",
       "dtype: bool"
      ]
     },
     "execution_count": 34,
     "metadata": {},
     "output_type": "execute_result"
    }
   ],
   "source": [
    "#filtrowanie serii -> tworze wyrażenie przez określenie warunku jeżeli bardziej złożone to potrzebny operatory bitwise\n",
    "serie>80_000_000"
   ]
  },
  {
   "cell_type": "code",
   "execution_count": 35,
   "id": "d380db0d",
   "metadata": {},
   "outputs": [
    {
     "data": {
      "text/plain": [
       "(Germany     84123567\n",
       " Russia     150765222\n",
       " USA        320987654\n",
       " dtype: int64,)"
      ]
     },
     "execution_count": 35,
     "metadata": {},
     "output_type": "execute_result"
    }
   ],
   "source": [
    "#indeksuje serie wyrażeniem\n",
    "serie[serie>80_000_000]"
   ]
  },
  {
   "cell_type": "code",
   "execution_count": 36,
   "id": "7799c986",
   "metadata": {},
   "outputs": [
    {
     "data": {
      "text/plain": [
       "Poland      38321543\n",
       "Germany     84123567\n",
       "Russia     150765222\n",
       "USA        320987654\n",
       "UK          62123456\n",
       "dtype: int64"
      ]
     },
     "execution_count": 36,
     "metadata": {},
     "output_type": "execute_result"
    }
   ],
   "source": [
    "#konwersja wartości opisowej na wartość numeryczną H, M, L\n"
   ]
  },
  {
   "cell_type": "code",
   "execution_count": 37,
   "id": "0dcb6baf",
   "metadata": {},
   "outputs": [],
   "source": [
    "def convert_pop(x):\n",
    "    if x <50_000_000:\n",
    "        return \"L\"\n",
    "    if x<100_000_000:\n",
    "        return \"M\"\n",
    "    return \"H\""
   ]
  },
  {
   "cell_type": "code",
   "execution_count": 40,
   "id": "5411c1c1",
   "metadata": {},
   "outputs": [
    {
     "data": {
      "text/plain": [
       "'H'"
      ]
     },
     "execution_count": 40,
     "metadata": {},
     "output_type": "execute_result"
    }
   ],
   "source": [
    "convert_pop(115_123_123)"
   ]
  },
  {
   "cell_type": "code",
   "execution_count": 47,
   "id": "ada25a36",
   "metadata": {},
   "outputs": [
    {
     "data": {
      "text/plain": [
       "Poland      38.321543\n",
       "Germany     84.123567\n",
       "Russia     150.765222\n",
       "USA        320.987654\n",
       "UK          62.123456\n",
       "dtype: float64"
      ]
     },
     "execution_count": 47,
     "metadata": {},
     "output_type": "execute_result"
    }
   ],
   "source": [
    "labels=serie.apply(convert_pop,countries)\n",
    "serie/1_000_000"
   ]
  },
  {
   "cell_type": "code",
   "execution_count": 49,
   "id": "c1007175",
   "metadata": {},
   "outputs": [
    {
     "data": {
      "text/plain": [
       "Poland      38.32 mln\n",
       "Germany     84.12 mln\n",
       "Russia     150.77 mln\n",
       "USA        320.99 mln\n",
       "UK          62.12 mln\n",
       "dtype: object"
      ]
     },
     "execution_count": 49,
     "metadata": {},
     "output_type": "execute_result"
    }
   ],
   "source": [
    "serie.apply(lambda x: f'{x/1_000_000:.2f} mln')"
   ]
  },
  {
   "cell_type": "code",
   "execution_count": 51,
   "id": "7296864c",
   "metadata": {},
   "outputs": [
    {
     "data": {
      "text/plain": [
       "USA        320987654\n",
       "Russia     150765222\n",
       "Germany     84123567\n",
       "UK          62123456\n",
       "Poland      38321543\n",
       "dtype: int64"
      ]
     },
     "execution_count": 51,
     "metadata": {},
     "output_type": "execute_result"
    }
   ],
   "source": [
    "serie.sort_values(ascending=False)"
   ]
  },
  {
   "cell_type": "code",
   "execution_count": 52,
   "id": "b3c2f2a9",
   "metadata": {},
   "outputs": [
    {
     "data": {
      "text/plain": [
       "USA        320987654\n",
       "UK          62123456\n",
       "Russia     150765222\n",
       "Poland      38321543\n",
       "Germany     84123567\n",
       "dtype: int64"
      ]
     },
     "execution_count": 52,
     "metadata": {},
     "output_type": "execute_result"
    }
   ],
   "source": [
    "serie.sort_index(ascending=False)"
   ]
  },
  {
   "cell_type": "code",
   "execution_count": 53,
   "id": "50a054e1",
   "metadata": {},
   "outputs": [
    {
     "data": {
      "text/plain": [
       "0    PL\n",
       "1    UK\n",
       "2    RU\n",
       "dtype: object"
      ]
     },
     "execution_count": 53,
     "metadata": {},
     "output_type": "execute_result"
    }
   ],
   "source": [
    "#mapowanie \n",
    "serie = pd.Series([\"PL\",\"UK\",\"RU\"])\n",
    "serie"
   ]
  },
  {
   "cell_type": "code",
   "execution_count": 56,
   "id": "2651829c",
   "metadata": {},
   "outputs": [],
   "source": [
    "countries_map= {\n",
    "    \"PL\":\"Poland\",\n",
    "    \"UK\":\"The United Kingdom\",\n",
    "   #\"RU\":\"Russia\"\n",
    "}"
   ]
  },
  {
   "cell_type": "code",
   "execution_count": 57,
   "id": "31eb5862",
   "metadata": {},
   "outputs": [
    {
     "data": {
      "text/plain": [
       "0                Poland\n",
       "1    The United Kingdom\n",
       "2                   NaN\n",
       "dtype: object"
      ]
     },
     "execution_count": 57,
     "metadata": {},
     "output_type": "execute_result"
    }
   ],
   "source": [
    "serie.map(countries_map)"
   ]
  },
  {
   "cell_type": "code",
   "execution_count": 58,
   "id": "4890ae47",
   "metadata": {},
   "outputs": [],
   "source": [
    "#zrobić tak żeby nie było wartości pustych\n",
    "#trzeba zrobić własną klasę dziedziczącą po słowniku"
   ]
  },
  {
   "cell_type": "code",
   "execution_count": 59,
   "id": "134047ea",
   "metadata": {},
   "outputs": [
    {
     "data": {
      "text/plain": [
       "Poland      38321543\n",
       "Germany     84123567\n",
       "Russia     150765222\n",
       "USA        320987654\n",
       "UK          62123456\n",
       "dtype: int64"
      ]
     },
     "execution_count": 59,
     "metadata": {},
     "output_type": "execute_result"
    }
   ],
   "source": [
    "#wprowadzam dane\n",
    "countries =[\"Poland\",\"Germany\", \"Russia\", \"USA\", \"UK\"]\n",
    "population = [38_321_543, 84_123_567, 150_765_222, 320_987_654,62_123_456]\n",
    "serie = pd.Series(population, countries )\n",
    "serie"
   ]
  },
  {
   "cell_type": "markdown",
   "id": "2953b434",
   "metadata": {},
   "source": [
    "## lokalizaowanie danych w serii"
   ]
  },
  {
   "cell_type": "code",
   "execution_count": 69,
   "id": "7f6cae96",
   "metadata": {},
   "outputs": [
    {
     "data": {
      "text/plain": [
       "(38321543, 38321543, 38321543, 38321543, 38321543)"
      ]
     },
     "execution_count": 69,
     "metadata": {},
     "output_type": "execute_result"
    }
   ],
   "source": [
    "serie[\"Poland\"], serie.loc['Poland'], serie.Poland, serie[0],serie.iloc[0]"
   ]
  },
  {
   "cell_type": "code",
   "execution_count": 73,
   "id": "6fd0fef1",
   "metadata": {},
   "outputs": [
    {
     "data": {
      "text/plain": [
       "(Poland      38321543\n",
       " Germany     84123567\n",
       " Russia     150765222\n",
       " USA        320987654\n",
       " dtype: int64,\n",
       " Poland      38321543\n",
       " Germany     84123567\n",
       " Russia     150765222\n",
       " USA        320987654\n",
       " dtype: int64,\n",
       " 38321543)"
      ]
     },
     "execution_count": 73,
     "metadata": {},
     "output_type": "execute_result"
    }
   ],
   "source": [
    "serie[0:4], serie.loc[\"Poland\":\"USA\"], serie.iloc[0:4]"
   ]
  },
  {
   "cell_type": "code",
   "execution_count": 74,
   "id": "2ac0a0d9",
   "metadata": {},
   "outputs": [
    {
     "data": {
      "text/plain": [
       "Poland     38321543\n",
       "USA       320987654\n",
       "dtype: int64"
      ]
     },
     "execution_count": 74,
     "metadata": {},
     "output_type": "execute_result"
    }
   ],
   "source": [
    "serie.loc[[\"Poland\",\"USA\"]]"
   ]
  },
  {
   "cell_type": "code",
   "execution_count": 75,
   "id": "0761adca",
   "metadata": {},
   "outputs": [
    {
     "data": {
      "text/plain": [
       "USA       320987654\n",
       "Poland     38321543\n",
       "dtype: int64"
      ]
     },
     "execution_count": 75,
     "metadata": {},
     "output_type": "execute_result"
    }
   ],
   "source": [
    "serie.loc[[\"USA\",\"Poland\"]]"
   ]
  },
  {
   "cell_type": "code",
   "execution_count": 78,
   "id": "fe9b90b2",
   "metadata": {},
   "outputs": [
    {
     "data": {
      "text/plain": [
       "Poland     38321543\n",
       "Russia    150765222\n",
       "dtype: int64"
      ]
     },
     "execution_count": 78,
     "metadata": {},
     "output_type": "execute_result"
    }
   ],
   "source": [
    "serie.loc[\"Poland\":\"USA\":2]"
   ]
  },
  {
   "cell_type": "code",
   "execution_count": 79,
   "id": "c8ecea21",
   "metadata": {},
   "outputs": [
    {
     "data": {
      "text/plain": [
       "Germany    84123567\n",
       "UK         62123456\n",
       "dtype: int64"
      ]
     },
     "execution_count": 79,
     "metadata": {},
     "output_type": "execute_result"
    }
   ],
   "source": [
    "#mogę podać listę offsetów które mnie interesują\n",
    "serie.iloc[[1,-1]]"
   ]
  },
  {
   "cell_type": "code",
   "execution_count": 80,
   "id": "30682ecf",
   "metadata": {},
   "outputs": [
    {
     "data": {
      "text/plain": [
       "UK    62123456\n",
       "dtype: int64"
      ]
     },
     "execution_count": 80,
     "metadata": {},
     "output_type": "execute_result"
    }
   ],
   "source": [
    "serie.iloc[[-1]]"
   ]
  },
  {
   "cell_type": "code",
   "execution_count": null,
   "id": "04529770",
   "metadata": {},
   "outputs": [],
   "source": []
  }
 ],
 "metadata": {
  "kernelspec": {
   "display_name": "Python 3 (ipykernel)",
   "language": "python",
   "name": "python3"
  },
  "language_info": {
   "codemirror_mode": {
    "name": "ipython",
    "version": 3
   },
   "file_extension": ".py",
   "mimetype": "text/x-python",
   "name": "python",
   "nbconvert_exporter": "python",
   "pygments_lexer": "ipython3",
   "version": "3.9.7"
  }
 },
 "nbformat": 4,
 "nbformat_minor": 5
}
